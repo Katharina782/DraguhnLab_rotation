{
  "cells": [
    {
      "cell_type": "markdown",
      "metadata": {
        "id": "view-in-github",
        "colab_type": "text"
      },
      "source": [
        "<a href=\"https://colab.research.google.com/github/Katharina782/DraguhnLab_rotation/blob/main/BPNet_data.ipynb\" target=\"_parent\"><img src=\"https://colab.research.google.com/assets/colab-badge.svg\" alt=\"Open In Colab\"/></a>"
      ]
    },
    {
      "cell_type": "markdown",
      "source": [
        "# Installations"
      ],
      "metadata": {
        "id": "l3lFiZGu53zY"
      }
    },
    {
      "cell_type": "code",
      "source": [
        "pip install pysam"
      ],
      "metadata": {
        "colab": {
          "base_uri": "https://localhost:8080/"
        },
        "id": "4B9TtJLwC0dI",
        "outputId": "5ef9ab39-6296-444c-f878-310dacd9e7fd"
      },
      "execution_count": 1,
      "outputs": [
        {
          "output_type": "stream",
          "name": "stdout",
          "text": [
            "Looking in indexes: https://pypi.org/simple, https://us-python.pkg.dev/colab-wheels/public/simple/\n",
            "Collecting pysam\n",
            "  Downloading pysam-0.19.1-cp37-cp37m-manylinux_2_24_x86_64.whl (15.1 MB)\n",
            "\u001b[K     |████████████████████████████████| 15.1 MB 31.2 MB/s \n",
            "\u001b[?25hInstalling collected packages: pysam\n",
            "Successfully installed pysam-0.19.1\n"
          ]
        }
      ]
    },
    {
      "cell_type": "code",
      "source": [
        "pip install pyBigWig"
      ],
      "metadata": {
        "colab": {
          "base_uri": "https://localhost:8080/"
        },
        "id": "HwGdFzu25xtp",
        "outputId": "cd531377-5cde-476d-e61d-5345c89c344a"
      },
      "execution_count": 2,
      "outputs": [
        {
          "output_type": "stream",
          "name": "stdout",
          "text": [
            "Looking in indexes: https://pypi.org/simple, https://us-python.pkg.dev/colab-wheels/public/simple/\n",
            "Collecting pyBigWig\n",
            "  Downloading pyBigWig-0.3.18.tar.gz (64 kB)\n",
            "\u001b[?25l\r\u001b[K     |█████                           | 10 kB 21.5 MB/s eta 0:00:01\r\u001b[K     |██████████                      | 20 kB 28.1 MB/s eta 0:00:01\r\u001b[K     |███████████████▏                | 30 kB 24.1 MB/s eta 0:00:01\r\u001b[K     |████████████████████▏           | 40 kB 13.3 MB/s eta 0:00:01\r\u001b[K     |█████████████████████████▎      | 51 kB 12.5 MB/s eta 0:00:01\r\u001b[K     |██████████████████████████████▎ | 61 kB 14.5 MB/s eta 0:00:01\r\u001b[K     |████████████████████████████████| 64 kB 3.0 MB/s \n",
            "\u001b[?25hBuilding wheels for collected packages: pyBigWig\n",
            "  Building wheel for pyBigWig (setup.py) ... \u001b[?25l\u001b[?25hdone\n",
            "  Created wheel for pyBigWig: filename=pyBigWig-0.3.18-cp37-cp37m-linux_x86_64.whl size=196915 sha256=4c9f9b4e4041ecc65ced7ffdbe34c4dd61d783f3281a67abc592b015245346f0\n",
            "  Stored in directory: /root/.cache/pip/wheels/28/eb/46/c761563ba38bd516bcc6accde3d4188cd84eec067f9201cbec\n",
            "Successfully built pyBigWig\n",
            "Installing collected packages: pyBigWig\n",
            "Successfully installed pyBigWig-0.3.18\n"
          ]
        }
      ]
    },
    {
      "cell_type": "code",
      "source": [
        "pip install pyranges"
      ],
      "metadata": {
        "colab": {
          "base_uri": "https://localhost:8080/"
        },
        "id": "vBYkIKQFnxFr",
        "outputId": "289c8d3d-73cc-41dc-ba8e-b2460f6c8e9a"
      },
      "execution_count": 3,
      "outputs": [
        {
          "output_type": "stream",
          "name": "stdout",
          "text": [
            "Looking in indexes: https://pypi.org/simple, https://us-python.pkg.dev/colab-wheels/public/simple/\n",
            "Collecting pyranges\n",
            "  Downloading pyranges-0.0.117.tar.gz (684 kB)\n",
            "\u001b[K     |████████████████████████████████| 684 kB 26.0 MB/s \n",
            "\u001b[?25hRequirement already satisfied: cython in /usr/local/lib/python3.7/dist-packages (from pyranges) (0.29.32)\n",
            "Requirement already satisfied: pandas in /usr/local/lib/python3.7/dist-packages (from pyranges) (1.3.5)\n",
            "Collecting ncls>=0.0.63\n",
            "  Downloading ncls-0.0.65.tar.gz (470 kB)\n",
            "\u001b[K     |████████████████████████████████| 470 kB 40.6 MB/s \n",
            "\u001b[?25hRequirement already satisfied: tabulate in /usr/local/lib/python3.7/dist-packages (from pyranges) (0.8.10)\n",
            "Collecting sorted_nearest>=0.0.33\n",
            "  Downloading sorted_nearest-0.0.37.tar.gz (1.3 MB)\n",
            "\u001b[K     |████████████████████████████████| 1.3 MB 41.5 MB/s \n",
            "\u001b[?25h  Installing build dependencies ... \u001b[?25l\u001b[?25hdone\n",
            "  Getting requirements to build wheel ... \u001b[?25l\u001b[?25hdone\n",
            "    Preparing wheel metadata ... \u001b[?25l\u001b[?25hdone\n",
            "Collecting pyrle\n",
            "  Downloading pyrle-0.0.35.tar.gz (425 kB)\n",
            "\u001b[K     |████████████████████████████████| 425 kB 69.0 MB/s \n",
            "\u001b[?25h  Installing build dependencies ... \u001b[?25l\u001b[?25hdone\n",
            "  Getting requirements to build wheel ... \u001b[?25l\u001b[?25hdone\n",
            "    Preparing wheel metadata ... \u001b[?25l\u001b[?25hdone\n",
            "Requirement already satisfied: natsort in /usr/local/lib/python3.7/dist-packages (from pyranges) (5.5.0)\n",
            "Requirement already satisfied: numpy in /usr/local/lib/python3.7/dist-packages (from ncls>=0.0.63->pyranges) (1.21.6)\n",
            "Requirement already satisfied: pytz>=2017.3 in /usr/local/lib/python3.7/dist-packages (from pandas->pyranges) (2022.1)\n",
            "Requirement already satisfied: python-dateutil>=2.7.3 in /usr/local/lib/python3.7/dist-packages (from pandas->pyranges) (2.8.2)\n",
            "Requirement already satisfied: six>=1.5 in /usr/local/lib/python3.7/dist-packages (from python-dateutil>=2.7.3->pandas->pyranges) (1.15.0)\n",
            "Building wheels for collected packages: pyranges, ncls, sorted-nearest, pyrle\n",
            "  Building wheel for pyranges (setup.py) ... \u001b[?25l\u001b[?25hdone\n",
            "  Created wheel for pyranges: filename=pyranges-0.0.117-py3-none-any.whl size=693480 sha256=3021767b01a6053688d69e4bf8c169fd01528f34bb89e34bb75e5055f6e88b35\n",
            "  Stored in directory: /root/.cache/pip/wheels/1e/c2/29/66f7e4c0de384a3f525410e00111fb88afeb8fbdde3064526f\n",
            "  Building wheel for ncls (setup.py) ... \u001b[?25l\u001b[?25hdone\n",
            "  Created wheel for ncls: filename=ncls-0.0.65-cp37-cp37m-linux_x86_64.whl size=1749170 sha256=40bb26ff7d4d10cb21a255d1fb2c8ae0a844e4c980a14840f3309c2102c6b625\n",
            "  Stored in directory: /root/.cache/pip/wheels/41/55/3b/f2ba6135fec41fbe60fe7e5ebf7ddc84c55d943a4423d88e52\n",
            "  Building wheel for sorted-nearest (PEP 517) ... \u001b[?25l\u001b[?25hdone\n",
            "  Created wheel for sorted-nearest: filename=sorted_nearest-0.0.37-cp37-cp37m-linux_x86_64.whl size=4358929 sha256=a7823d8497d21cf062b4e0bdaefc4fd8279bb594972023c417087b63d4cd966f\n",
            "  Stored in directory: /root/.cache/pip/wheels/aa/03/91/c3458b46d13e12641eae3658502b10e92288cd44fe9264ff8a\n",
            "  Building wheel for pyrle (PEP 517) ... \u001b[?25l\u001b[?25hdone\n",
            "  Created wheel for pyrle: filename=pyrle-0.0.35-cp37-cp37m-linux_x86_64.whl size=1296243 sha256=47bf0c6d6670a187c1460e8ce7348f92c211c25ff6a8b730a75095174e626e45\n",
            "  Stored in directory: /root/.cache/pip/wheels/3b/ad/e3/9aea7aa6eac18a3c0bc86f72f23f28a51b6d7b2c74b7600f55\n",
            "Successfully built pyranges ncls sorted-nearest pyrle\n",
            "Installing collected packages: sorted-nearest, pyrle, ncls, pyranges\n",
            "Successfully installed ncls-0.0.65 pyranges-0.0.117 pyrle-0.0.35 sorted-nearest-0.0.37\n"
          ]
        }
      ]
    },
    {
      "cell_type": "code",
      "source": [
        "drive.mount('/content/gdrive')\n"
      ],
      "metadata": {
        "colab": {
          "base_uri": "https://localhost:8080/"
        },
        "id": "RojWUY5otgqv",
        "outputId": "a1f95f89-156f-4173-837d-9a61b9d72996"
      },
      "execution_count": 22,
      "outputs": [
        {
          "output_type": "stream",
          "name": "stdout",
          "text": [
            "Mounted at /content/gdrive\n"
          ]
        }
      ]
    },
    {
      "cell_type": "code",
      "source": [
        "import os, sys\n",
        "from google.colab import drive\n",
        "drive.mount('/content/gdrive')\n",
        "nb_path = '/content/notebooks'\n",
        "os.symlink('/content/mnt/My Drive/Colab Notebooks', nb_path)\n",
        "sys.path.insert(0, nb_path)  # or append(nb_path)\n"
      ],
      "metadata": {
        "id": "pfhW6mbA55_R",
        "colab": {
          "base_uri": "https://localhost:8080/"
        },
        "outputId": "c82e8112-b8b3-4d0d-cd52-6b17ade94f8c"
      },
      "execution_count": 5,
      "outputs": [
        {
          "output_type": "stream",
          "name": "stdout",
          "text": [
            "Mounted at /content/gdrive\n"
          ]
        }
      ]
    },
    {
      "cell_type": "code",
      "source": [
        "\n"
      ],
      "metadata": {
        "id": "8eFUuBd24V5t"
      },
      "execution_count": 5,
      "outputs": []
    },
    {
      "cell_type": "markdown",
      "source": [
        "# Import libraries"
      ],
      "metadata": {
        "id": "YUs19fco56Y0"
      }
    },
    {
      "cell_type": "code",
      "source": [
        "import pyranges as pr\n",
        "import math\n",
        "import seaborn as sns\n",
        "import pandas as pd\n",
        "import pyBigWig\n",
        "import numpy as np"
      ],
      "metadata": {
        "id": "Ob33bH010k4Z"
      },
      "execution_count": 6,
      "outputs": []
    },
    {
      "cell_type": "code",
      "source": [
        "import pysam"
      ],
      "metadata": {
        "id": "4PXpmrVAC3od"
      },
      "execution_count": 7,
      "outputs": []
    },
    {
      "cell_type": "code",
      "source": [
        "#!wget -O /content/gdrive/MyDrive/regions.bed https://zenodo.org/record/4294904/files/regions.bed?download=1"
      ],
      "metadata": {
        "id": "j8s9Yzu-51CW"
      },
      "execution_count": 8,
      "outputs": []
    },
    {
      "cell_type": "code",
      "execution_count": 9,
      "metadata": {
        "id": "HbyIgiirzMSm"
      },
      "outputs": [],
      "source": [
        "#!wget -O /content/gdrive/MyDrive/test_data.tar.gz https://zenodo.org/record/3371216/files/data.tar.gz?download=1"
      ]
    },
    {
      "cell_type": "markdown",
      "source": [
        "# Download files"
      ],
      "metadata": {
        "id": "WdhqtGjp6Etw"
      }
    },
    {
      "cell_type": "code",
      "source": [
        "#!tar -xvf /content/gdrive/MyDrive/test_data.tar.gz -C /content/gdrive/MyDrive/colab_notebooks/data/\n"
      ],
      "metadata": {
        "colab": {
          "base_uri": "https://localhost:8080/"
        },
        "id": "r4pxyWchs7DW",
        "outputId": "99c75a20-ac89-4ca6-fa48-fb4e29b90c6e"
      },
      "execution_count": 10,
      "outputs": [
        {
          "output_type": "stream",
          "name": "stdout",
          "text": [
            "data/\n",
            "data/merged_set/\n",
            "data/merged_set/Sox2.training.bed.gz\n",
            "data/merged_set/Oct4.training.bed.gz\n",
            "data/merged_set/unique.training.bed.gz\n",
            "data/merged_set/Nanog.training.bed.gz\n",
            "data/chip-seq/\n",
            "data/chip-seq/OSN.50-percent-overlap.tsv.gz\n",
            "data/chip-seq/Oct4/\n",
            "data/chip-seq/Oct4/counts.pos.bw\n",
            "data/chip-seq/Oct4/idr-optimal-set.narrowPeak.gz\n",
            "data/chip-seq/Oct4/idr-optimal-set.summit.bed.gz\n",
            "data/chip-seq/Oct4/counts.neg.bw\n",
            "data/chip-seq/input-control/\n",
            "data/chip-seq/input-control/counts.pos.bw\n",
            "data/chip-seq/input-control/counts.neg.bw\n",
            "data/chip-seq/Sox2/\n",
            "data/chip-seq/Sox2/counts.pos.bw\n",
            "data/chip-seq/Sox2/idr-optimal-set.narrowPeak.gz\n",
            "data/chip-seq/Sox2/idr-optimal-set.summit.bed.gz\n",
            "data/chip-seq/Sox2/counts.neg.bw\n",
            "data/chip-seq/Nanog/\n",
            "data/chip-seq/Nanog/counts.pos.bw\n",
            "data/chip-seq/Nanog/idr-optimal-set.narrowPeak.gz\n",
            "data/chip-seq/Nanog/idr-optimal-set.summit.bed.gz\n",
            "data/chip-seq/Nanog/counts.neg.bw\n",
            "data/chip-nexus/\n",
            "data/chip-nexus/OSN.50-percent-overlap.tsv.gz\n",
            "data/chip-nexus/peaks-bak/\n",
            "data/chip-nexus/peaks-bak/Klf4.bed.gz\n",
            "data/chip-nexus/peaks-bak/Sox2.bed.gz\n",
            "data/chip-nexus/peaks-bak/1kb.osnk.tsv.gz\n",
            "data/chip-nexus/peaks-bak/Nanog.bed.gz\n",
            "data/chip-nexus/peaks-bak/Oct4.bed.gz\n",
            "data/chip-nexus/Oct4/\n",
            "data/chip-nexus/Oct4/counts.pos.bw\n",
            "data/chip-nexus/Oct4/pool_filt.bam.bai\n",
            "data/chip-nexus/Oct4/idr-optimal-set.narrowPeak.gz\n",
            "data/chip-nexus/Oct4/idr-optimal-set.summit.bed.gz\n",
            "data/chip-nexus/Oct4/counts.neg.bw\n",
            "data/chip-nexus/Oct4/pool_filt.bam\n",
            "^C\n"
          ]
        }
      ]
    },
    {
      "cell_type": "code",
      "source": [
        "#!tar -xvzf /content/gdrive/MyDrive/test_data.tar.gz"
      ],
      "metadata": {
        "id": "GrlCAnPPdBKm"
      },
      "execution_count": 11,
      "outputs": []
    },
    {
      "cell_type": "code",
      "source": [
        "#!gzip -dv /content/data/chip-nexus/Sox2/idr-optimal-set.summit.bed.gz"
      ],
      "metadata": {
        "colab": {
          "base_uri": "https://localhost:8080/",
          "height": 133
        },
        "id": "sedRTrWhjlGa",
        "outputId": "b4721549-9da8-49ab-b6d2-30aeeb2daf1a"
      },
      "execution_count": 12,
      "outputs": [
        {
          "output_type": "error",
          "ename": "SyntaxError",
          "evalue": "ignored",
          "traceback": [
            "\u001b[0;36m  File \u001b[0;32m\"<ipython-input-12-9de9ab0cc062>\"\u001b[0;36m, line \u001b[0;32m1\u001b[0m\n\u001b[0;31m    '!gzip -dv /content/data/chip-nexus/Sox2/idr-optimal-set.summit.bed.gz\u001b[0m\n\u001b[0m                                                                          ^\u001b[0m\n\u001b[0;31mSyntaxError\u001b[0m\u001b[0;31m:\u001b[0m EOL while scanning string literal\n"
          ]
        }
      ]
    },
    {
      "cell_type": "code",
      "source": [
        "path = \"/content/gdrive/MyDrive/colab_notebooks/data/\""
      ],
      "metadata": {
        "id": "yPh8Qgag791h"
      },
      "execution_count": 20,
      "outputs": []
    },
    {
      "cell_type": "markdown",
      "source": [
        "# Input sequences\n",
        "\n",
        "Maybe these regions were used for training. I found this file under https://zenodo.org/record/4294904#.YvYJu3ZBw2x. At the end of the script I describe another set of regions which could potentially also represent the input..."
      ],
      "metadata": {
        "id": "Rh10TC-s7-bG"
      }
    },
    {
      "cell_type": "code",
      "source": [
        "#!ls -l /content/gdrive/MyDrive/regions.bed"
      ],
      "metadata": {
        "colab": {
          "base_uri": "https://localhost:8080/"
        },
        "id": "sym6-RnUEmmX",
        "outputId": "8c0168a4-22c9-47c7-9469-53ea98762c44"
      },
      "execution_count": 19,
      "outputs": [
        {
          "output_type": "stream",
          "name": "stdout",
          "text": [
            "ls: cannot access '/content/gdrive/MyDrive/regions.bed': Transport endpoint is not connected\n"
          ]
        }
      ]
    },
    {
      "cell_type": "code",
      "source": [
        "regions = pr.read_bed(f\"{path}regions.bed\")"
      ],
      "metadata": {
        "id": "PyAmJle57-5d"
      },
      "execution_count": 23,
      "outputs": []
    },
    {
      "cell_type": "code",
      "source": [
        "regions.df[1000:1005]"
      ],
      "metadata": {
        "colab": {
          "base_uri": "https://localhost:8080/",
          "height": 206
        },
        "id": "HuTiC5t88Lns",
        "outputId": "65777319-f461-433a-fc9a-1e1f394fbeb6"
      },
      "execution_count": 24,
      "outputs": [
        {
          "output_type": "execute_result",
          "data": {
            "text/plain": [
              "     Chromosome      Start        End  Name\n",
              "1000       chr1    3062442    3063442  Oct4\n",
              "1001       chr1   21716595   21717595  Oct4\n",
              "1002       chr1  187146201  187147201  Oct4\n",
              "1003       chr1  176948522  176949522  Oct4\n",
              "1004       chr1  176753568  176754568  Oct4"
            ],
            "text/html": [
              "\n",
              "  <div id=\"df-15715837-d5ea-4326-b310-8d4c2336c08e\">\n",
              "    <div class=\"colab-df-container\">\n",
              "      <div>\n",
              "<style scoped>\n",
              "    .dataframe tbody tr th:only-of-type {\n",
              "        vertical-align: middle;\n",
              "    }\n",
              "\n",
              "    .dataframe tbody tr th {\n",
              "        vertical-align: top;\n",
              "    }\n",
              "\n",
              "    .dataframe thead th {\n",
              "        text-align: right;\n",
              "    }\n",
              "</style>\n",
              "<table border=\"1\" class=\"dataframe\">\n",
              "  <thead>\n",
              "    <tr style=\"text-align: right;\">\n",
              "      <th></th>\n",
              "      <th>Chromosome</th>\n",
              "      <th>Start</th>\n",
              "      <th>End</th>\n",
              "      <th>Name</th>\n",
              "    </tr>\n",
              "  </thead>\n",
              "  <tbody>\n",
              "    <tr>\n",
              "      <th>1000</th>\n",
              "      <td>chr1</td>\n",
              "      <td>3062442</td>\n",
              "      <td>3063442</td>\n",
              "      <td>Oct4</td>\n",
              "    </tr>\n",
              "    <tr>\n",
              "      <th>1001</th>\n",
              "      <td>chr1</td>\n",
              "      <td>21716595</td>\n",
              "      <td>21717595</td>\n",
              "      <td>Oct4</td>\n",
              "    </tr>\n",
              "    <tr>\n",
              "      <th>1002</th>\n",
              "      <td>chr1</td>\n",
              "      <td>187146201</td>\n",
              "      <td>187147201</td>\n",
              "      <td>Oct4</td>\n",
              "    </tr>\n",
              "    <tr>\n",
              "      <th>1003</th>\n",
              "      <td>chr1</td>\n",
              "      <td>176948522</td>\n",
              "      <td>176949522</td>\n",
              "      <td>Oct4</td>\n",
              "    </tr>\n",
              "    <tr>\n",
              "      <th>1004</th>\n",
              "      <td>chr1</td>\n",
              "      <td>176753568</td>\n",
              "      <td>176754568</td>\n",
              "      <td>Oct4</td>\n",
              "    </tr>\n",
              "  </tbody>\n",
              "</table>\n",
              "</div>\n",
              "      <button class=\"colab-df-convert\" onclick=\"convertToInteractive('df-15715837-d5ea-4326-b310-8d4c2336c08e')\"\n",
              "              title=\"Convert this dataframe to an interactive table.\"\n",
              "              style=\"display:none;\">\n",
              "        \n",
              "  <svg xmlns=\"http://www.w3.org/2000/svg\" height=\"24px\"viewBox=\"0 0 24 24\"\n",
              "       width=\"24px\">\n",
              "    <path d=\"M0 0h24v24H0V0z\" fill=\"none\"/>\n",
              "    <path d=\"M18.56 5.44l.94 2.06.94-2.06 2.06-.94-2.06-.94-.94-2.06-.94 2.06-2.06.94zm-11 1L8.5 8.5l.94-2.06 2.06-.94-2.06-.94L8.5 2.5l-.94 2.06-2.06.94zm10 10l.94 2.06.94-2.06 2.06-.94-2.06-.94-.94-2.06-.94 2.06-2.06.94z\"/><path d=\"M17.41 7.96l-1.37-1.37c-.4-.4-.92-.59-1.43-.59-.52 0-1.04.2-1.43.59L10.3 9.45l-7.72 7.72c-.78.78-.78 2.05 0 2.83L4 21.41c.39.39.9.59 1.41.59.51 0 1.02-.2 1.41-.59l7.78-7.78 2.81-2.81c.8-.78.8-2.07 0-2.86zM5.41 20L4 18.59l7.72-7.72 1.47 1.35L5.41 20z\"/>\n",
              "  </svg>\n",
              "      </button>\n",
              "      \n",
              "  <style>\n",
              "    .colab-df-container {\n",
              "      display:flex;\n",
              "      flex-wrap:wrap;\n",
              "      gap: 12px;\n",
              "    }\n",
              "\n",
              "    .colab-df-convert {\n",
              "      background-color: #E8F0FE;\n",
              "      border: none;\n",
              "      border-radius: 50%;\n",
              "      cursor: pointer;\n",
              "      display: none;\n",
              "      fill: #1967D2;\n",
              "      height: 32px;\n",
              "      padding: 0 0 0 0;\n",
              "      width: 32px;\n",
              "    }\n",
              "\n",
              "    .colab-df-convert:hover {\n",
              "      background-color: #E2EBFA;\n",
              "      box-shadow: 0px 1px 2px rgba(60, 64, 67, 0.3), 0px 1px 3px 1px rgba(60, 64, 67, 0.15);\n",
              "      fill: #174EA6;\n",
              "    }\n",
              "\n",
              "    [theme=dark] .colab-df-convert {\n",
              "      background-color: #3B4455;\n",
              "      fill: #D2E3FC;\n",
              "    }\n",
              "\n",
              "    [theme=dark] .colab-df-convert:hover {\n",
              "      background-color: #434B5C;\n",
              "      box-shadow: 0px 1px 3px 1px rgba(0, 0, 0, 0.15);\n",
              "      filter: drop-shadow(0px 1px 2px rgba(0, 0, 0, 0.3));\n",
              "      fill: #FFFFFF;\n",
              "    }\n",
              "  </style>\n",
              "\n",
              "      <script>\n",
              "        const buttonEl =\n",
              "          document.querySelector('#df-15715837-d5ea-4326-b310-8d4c2336c08e button.colab-df-convert');\n",
              "        buttonEl.style.display =\n",
              "          google.colab.kernel.accessAllowed ? 'block' : 'none';\n",
              "\n",
              "        async function convertToInteractive(key) {\n",
              "          const element = document.querySelector('#df-15715837-d5ea-4326-b310-8d4c2336c08e');\n",
              "          const dataTable =\n",
              "            await google.colab.kernel.invokeFunction('convertToInteractive',\n",
              "                                                     [key], {});\n",
              "          if (!dataTable) return;\n",
              "\n",
              "          const docLinkHtml = 'Like what you see? Visit the ' +\n",
              "            '<a target=\"_blank\" href=https://colab.research.google.com/notebooks/data_table.ipynb>data table notebook</a>'\n",
              "            + ' to learn more about interactive tables.';\n",
              "          element.innerHTML = '';\n",
              "          dataTable['output_type'] = 'display_data';\n",
              "          await google.colab.output.renderOutput(dataTable, element);\n",
              "          const docLink = document.createElement('div');\n",
              "          docLink.innerHTML = docLinkHtml;\n",
              "          element.appendChild(docLink);\n",
              "        }\n",
              "      </script>\n",
              "    </div>\n",
              "  </div>\n",
              "  "
            ]
          },
          "metadata": {},
          "execution_count": 24
        }
      ]
    },
    {
      "cell_type": "code",
      "source": [
        "print(f\"The region bed file has {len(regions.df)} rows, corresponding to regions\")"
      ],
      "metadata": {
        "colab": {
          "base_uri": "https://localhost:8080/"
        },
        "id": "bF686l1o8QDl",
        "outputId": "982f01fa-9183-42e1-d7ed-0c8344045ae8"
      },
      "execution_count": 25,
      "outputs": [
        {
          "output_type": "stream",
          "name": "stdout",
          "text": [
            "The region bed file has 147974 rows, corresponding to regions\n"
          ]
        }
      ]
    },
    {
      "cell_type": "code",
      "source": [
        "print(f\"Each region is {regions.lengths()[0]}kb long. Assuming this is the data we were looking for.\\n These regions were used as input for the model training.\")"
      ],
      "metadata": {
        "colab": {
          "base_uri": "https://localhost:8080/"
        },
        "id": "lQzCn9ET8NPe",
        "outputId": "e9ec8f54-5f96-4db3-977c-48d5a66f3c91"
      },
      "execution_count": 26,
      "outputs": [
        {
          "output_type": "stream",
          "name": "stdout",
          "text": [
            "Each region is 1000kb long. Assuming this is the data we were looking for.\n",
            " These regions were used as input for the model training.\n"
          ]
        }
      ]
    },
    {
      "cell_type": "markdown",
      "source": [
        "# Peaks\n",
        "\n",
        "In the folder '/chip-nexus/peaks-bak/' there are bed files for each TF, with reads of lenth 201.  Here I had a look at the Sox2.bed file.\n",
        "This has 9396 rows. Interestingly, this is the same number of rows as in the Sox2.training.bed in the folder \"/merged_set\".\n",
        "What is the meaning of the Score values? Most of them are 1000. Is this a quality metric?\n",
        "\n",
        "\n",
        "Additionally there is a 1kb.osnk.tsv.gz file.\n"
      ],
      "metadata": {
        "id": "65fHhPJP3w1L"
      }
    },
    {
      "cell_type": "code",
      "source": [
        "#!gzip -dv /content/gdrive/MyDrive/colab_notebooks/data/chip-nexus/peaks-bak/Sox2.bed.gz"
      ],
      "metadata": {
        "colab": {
          "base_uri": "https://localhost:8080/"
        },
        "id": "ULkRrlqLzNyQ",
        "outputId": "7f059127-04c6-4d4d-999f-f65df508e5f2"
      },
      "execution_count": 30,
      "outputs": [
        {
          "output_type": "stream",
          "name": "stdout",
          "text": [
            "/content/gdrive/MyDrive/colab_notebooks/data/chip-nexus/peaks-bak/Sox2.bed.gz:\t 70.9% -- replaced with /content/gdrive/MyDrive/colab_notebooks/data/chip-nexus/peaks-bak/Sox2.bed\n"
          ]
        }
      ]
    },
    {
      "cell_type": "code",
      "source": [
        "sox2 = pr.read_bed(f\"{path}chip-nexus/peaks-bak/Sox2.bed\")\n"
      ],
      "metadata": {
        "id": "ISgSs-_wyvvh"
      },
      "execution_count": 31,
      "outputs": []
    },
    {
      "cell_type": "code",
      "source": [
        "print(f\"The peaks.bed file for Sox2 has {len(sox2.df)} rows.\")"
      ],
      "metadata": {
        "colab": {
          "base_uri": "https://localhost:8080/"
        },
        "id": "dt0ouXtT4Q-S",
        "outputId": "e0a7c84c-e8f1-44e0-e7ed-a3324b410e9c"
      },
      "execution_count": 33,
      "outputs": [
        {
          "output_type": "stream",
          "name": "stdout",
          "text": [
            "The peaks.bed file for Sox2 has 9396 rows.\n"
          ]
        }
      ]
    },
    {
      "cell_type": "code",
      "source": [
        "sox2.df.head(5)"
      ],
      "metadata": {
        "colab": {
          "base_uri": "https://localhost:8080/",
          "height": 206
        },
        "id": "SSGnjE7Gzen4",
        "outputId": "a5a21d49-51a9-47e2-f8e3-d721bfcb33e4"
      },
      "execution_count": 34,
      "outputs": [
        {
          "output_type": "execute_result",
          "data": {
            "text/plain": [
              "  Chromosome      Start        End Name  Score Strand  ThickStart  ThickEnd  \\\n",
              "0       chr1   57780110   57780311    .   1000      .    23.32034      -1.0   \n",
              "1       chr1    9955253    9955454    .   1000      .    23.66639      -1.0   \n",
              "2       chr1  164745112  164745313    .    634      .    26.03992      -1.0   \n",
              "3       chr1   58762878   58763079    .   1000      .    27.04394      -1.0   \n",
              "4       chr1  172510905  172511106    .    977      .    27.30969      -1.0   \n",
              "\n",
              "   ItemRGB  BlockCount  \n",
              "0 -0.12406         168  \n",
              "1 -0.13534         168  \n",
              "2 -0.21479         168  \n",
              "3 -0.25005         168  \n",
              "4 -0.25951         168  "
            ],
            "text/html": [
              "\n",
              "  <div id=\"df-8029ebee-d7c1-445b-bce7-b706b37242ce\">\n",
              "    <div class=\"colab-df-container\">\n",
              "      <div>\n",
              "<style scoped>\n",
              "    .dataframe tbody tr th:only-of-type {\n",
              "        vertical-align: middle;\n",
              "    }\n",
              "\n",
              "    .dataframe tbody tr th {\n",
              "        vertical-align: top;\n",
              "    }\n",
              "\n",
              "    .dataframe thead th {\n",
              "        text-align: right;\n",
              "    }\n",
              "</style>\n",
              "<table border=\"1\" class=\"dataframe\">\n",
              "  <thead>\n",
              "    <tr style=\"text-align: right;\">\n",
              "      <th></th>\n",
              "      <th>Chromosome</th>\n",
              "      <th>Start</th>\n",
              "      <th>End</th>\n",
              "      <th>Name</th>\n",
              "      <th>Score</th>\n",
              "      <th>Strand</th>\n",
              "      <th>ThickStart</th>\n",
              "      <th>ThickEnd</th>\n",
              "      <th>ItemRGB</th>\n",
              "      <th>BlockCount</th>\n",
              "    </tr>\n",
              "  </thead>\n",
              "  <tbody>\n",
              "    <tr>\n",
              "      <th>0</th>\n",
              "      <td>chr1</td>\n",
              "      <td>57780110</td>\n",
              "      <td>57780311</td>\n",
              "      <td>.</td>\n",
              "      <td>1000</td>\n",
              "      <td>.</td>\n",
              "      <td>23.32034</td>\n",
              "      <td>-1.0</td>\n",
              "      <td>-0.12406</td>\n",
              "      <td>168</td>\n",
              "    </tr>\n",
              "    <tr>\n",
              "      <th>1</th>\n",
              "      <td>chr1</td>\n",
              "      <td>9955253</td>\n",
              "      <td>9955454</td>\n",
              "      <td>.</td>\n",
              "      <td>1000</td>\n",
              "      <td>.</td>\n",
              "      <td>23.66639</td>\n",
              "      <td>-1.0</td>\n",
              "      <td>-0.13534</td>\n",
              "      <td>168</td>\n",
              "    </tr>\n",
              "    <tr>\n",
              "      <th>2</th>\n",
              "      <td>chr1</td>\n",
              "      <td>164745112</td>\n",
              "      <td>164745313</td>\n",
              "      <td>.</td>\n",
              "      <td>634</td>\n",
              "      <td>.</td>\n",
              "      <td>26.03992</td>\n",
              "      <td>-1.0</td>\n",
              "      <td>-0.21479</td>\n",
              "      <td>168</td>\n",
              "    </tr>\n",
              "    <tr>\n",
              "      <th>3</th>\n",
              "      <td>chr1</td>\n",
              "      <td>58762878</td>\n",
              "      <td>58763079</td>\n",
              "      <td>.</td>\n",
              "      <td>1000</td>\n",
              "      <td>.</td>\n",
              "      <td>27.04394</td>\n",
              "      <td>-1.0</td>\n",
              "      <td>-0.25005</td>\n",
              "      <td>168</td>\n",
              "    </tr>\n",
              "    <tr>\n",
              "      <th>4</th>\n",
              "      <td>chr1</td>\n",
              "      <td>172510905</td>\n",
              "      <td>172511106</td>\n",
              "      <td>.</td>\n",
              "      <td>977</td>\n",
              "      <td>.</td>\n",
              "      <td>27.30969</td>\n",
              "      <td>-1.0</td>\n",
              "      <td>-0.25951</td>\n",
              "      <td>168</td>\n",
              "    </tr>\n",
              "  </tbody>\n",
              "</table>\n",
              "</div>\n",
              "      <button class=\"colab-df-convert\" onclick=\"convertToInteractive('df-8029ebee-d7c1-445b-bce7-b706b37242ce')\"\n",
              "              title=\"Convert this dataframe to an interactive table.\"\n",
              "              style=\"display:none;\">\n",
              "        \n",
              "  <svg xmlns=\"http://www.w3.org/2000/svg\" height=\"24px\"viewBox=\"0 0 24 24\"\n",
              "       width=\"24px\">\n",
              "    <path d=\"M0 0h24v24H0V0z\" fill=\"none\"/>\n",
              "    <path d=\"M18.56 5.44l.94 2.06.94-2.06 2.06-.94-2.06-.94-.94-2.06-.94 2.06-2.06.94zm-11 1L8.5 8.5l.94-2.06 2.06-.94-2.06-.94L8.5 2.5l-.94 2.06-2.06.94zm10 10l.94 2.06.94-2.06 2.06-.94-2.06-.94-.94-2.06-.94 2.06-2.06.94z\"/><path d=\"M17.41 7.96l-1.37-1.37c-.4-.4-.92-.59-1.43-.59-.52 0-1.04.2-1.43.59L10.3 9.45l-7.72 7.72c-.78.78-.78 2.05 0 2.83L4 21.41c.39.39.9.59 1.41.59.51 0 1.02-.2 1.41-.59l7.78-7.78 2.81-2.81c.8-.78.8-2.07 0-2.86zM5.41 20L4 18.59l7.72-7.72 1.47 1.35L5.41 20z\"/>\n",
              "  </svg>\n",
              "      </button>\n",
              "      \n",
              "  <style>\n",
              "    .colab-df-container {\n",
              "      display:flex;\n",
              "      flex-wrap:wrap;\n",
              "      gap: 12px;\n",
              "    }\n",
              "\n",
              "    .colab-df-convert {\n",
              "      background-color: #E8F0FE;\n",
              "      border: none;\n",
              "      border-radius: 50%;\n",
              "      cursor: pointer;\n",
              "      display: none;\n",
              "      fill: #1967D2;\n",
              "      height: 32px;\n",
              "      padding: 0 0 0 0;\n",
              "      width: 32px;\n",
              "    }\n",
              "\n",
              "    .colab-df-convert:hover {\n",
              "      background-color: #E2EBFA;\n",
              "      box-shadow: 0px 1px 2px rgba(60, 64, 67, 0.3), 0px 1px 3px 1px rgba(60, 64, 67, 0.15);\n",
              "      fill: #174EA6;\n",
              "    }\n",
              "\n",
              "    [theme=dark] .colab-df-convert {\n",
              "      background-color: #3B4455;\n",
              "      fill: #D2E3FC;\n",
              "    }\n",
              "\n",
              "    [theme=dark] .colab-df-convert:hover {\n",
              "      background-color: #434B5C;\n",
              "      box-shadow: 0px 1px 3px 1px rgba(0, 0, 0, 0.15);\n",
              "      filter: drop-shadow(0px 1px 2px rgba(0, 0, 0, 0.3));\n",
              "      fill: #FFFFFF;\n",
              "    }\n",
              "  </style>\n",
              "\n",
              "      <script>\n",
              "        const buttonEl =\n",
              "          document.querySelector('#df-8029ebee-d7c1-445b-bce7-b706b37242ce button.colab-df-convert');\n",
              "        buttonEl.style.display =\n",
              "          google.colab.kernel.accessAllowed ? 'block' : 'none';\n",
              "\n",
              "        async function convertToInteractive(key) {\n",
              "          const element = document.querySelector('#df-8029ebee-d7c1-445b-bce7-b706b37242ce');\n",
              "          const dataTable =\n",
              "            await google.colab.kernel.invokeFunction('convertToInteractive',\n",
              "                                                     [key], {});\n",
              "          if (!dataTable) return;\n",
              "\n",
              "          const docLinkHtml = 'Like what you see? Visit the ' +\n",
              "            '<a target=\"_blank\" href=https://colab.research.google.com/notebooks/data_table.ipynb>data table notebook</a>'\n",
              "            + ' to learn more about interactive tables.';\n",
              "          element.innerHTML = '';\n",
              "          dataTable['output_type'] = 'display_data';\n",
              "          await google.colab.output.renderOutput(dataTable, element);\n",
              "          const docLink = document.createElement('div');\n",
              "          docLink.innerHTML = docLinkHtml;\n",
              "          element.appendChild(docLink);\n",
              "        }\n",
              "      </script>\n",
              "    </div>\n",
              "  </div>\n",
              "  "
            ]
          },
          "metadata": {},
          "execution_count": 34
        }
      ]
    },
    {
      "cell_type": "code",
      "source": [
        "# How wide are the peaks?\n",
        "print(f\"Width of each peak: {sox2.lengths()[0]}\")"
      ],
      "metadata": {
        "colab": {
          "base_uri": "https://localhost:8080/"
        },
        "id": "CK6QPkL20A38",
        "outputId": "0c3ebd96-4356-4c38-ccee-6f8352d43b54"
      },
      "execution_count": 35,
      "outputs": [
        {
          "output_type": "stream",
          "name": "stdout",
          "text": [
            "Width of each peak: 201\n"
          ]
        }
      ]
    },
    {
      "cell_type": "code",
      "source": [
        "print(sox2.summary())"
      ],
      "metadata": {
        "colab": {
          "base_uri": "https://localhost:8080/"
        },
        "id": "LW19E7pc0153",
        "outputId": "9bfba9c0-28a7-4ed3-cdca-fe0a7f288bae"
      },
      "execution_count": 36,
      "outputs": [
        {
          "output_type": "stream",
          "name": "stdout",
          "text": [
            "+-------+---------------+-----------------------+\n",
            "|       |       pyrange |   coverage_unstranded |\n",
            "|-------+---------------+-----------------------|\n",
            "| count | 9396          |        9341           |\n",
            "| mean  |  201          |         202.178       |\n",
            "| std   |    0          |          15.3079      |\n",
            "| min   |  201          |         201           |\n",
            "| 25%   |  201          |         201           |\n",
            "| 50%   |  201          |         201           |\n",
            "| 75%   |  201          |         201           |\n",
            "| max   |  201          |         402           |\n",
            "| sum   |    1.8886e+06 |           1.88854e+06 |\n",
            "+-------+---------------+-----------------------+\n",
            "None\n"
          ]
        }
      ]
    },
    {
      "cell_type": "code",
      "source": [
        "# Not sure what the meaning of the Score column is\n",
        "sns.displot(sox2.df, x=\"Score\")"
      ],
      "metadata": {
        "colab": {
          "base_uri": "https://localhost:8080/",
          "height": 387
        },
        "id": "f04Sgy4iAcOr",
        "outputId": "6e946112-cb5d-4262-96d9-f90721d034ca"
      },
      "execution_count": 38,
      "outputs": [
        {
          "output_type": "execute_result",
          "data": {
            "text/plain": [
              "<seaborn.axisgrid.FacetGrid at 0x7f5c206d2850>"
            ]
          },
          "metadata": {},
          "execution_count": 38
        },
        {
          "output_type": "display_data",
          "data": {
            "text/plain": [
              "<Figure size 360x360 with 1 Axes>"
            ],
            "image/png": "[encoded data removed]"
          },
          "metadata": {
            "needs_background": "light"
          }
        }
      ]
    },
    {
      "cell_type": "code",
      "source": [
        "df = sox2.df.sort_values(by=\"Chromosome\")"
      ],
      "metadata": {
        "id": "DCpTs52-2yii"
      },
      "execution_count": 40,
      "outputs": []
    },
    {
      "cell_type": "code",
      "source": [
        "p = sns.catplot(x = \"Chromosome\", kind = \"count\", data = sox2.df, palette = \"pastel\")\n",
        "p.set_xticklabels(rotation=90)\n"
      ],
      "metadata": {
        "colab": {
          "base_uri": "https://localhost:8080/",
          "height": 406
        },
        "id": "bluX1opr1GG4",
        "outputId": "ef398d89-9f54-4d2b-f66a-d64c15b3e8cd"
      },
      "execution_count": 41,
      "outputs": [
        {
          "output_type": "execute_result",
          "data": {
            "text/plain": [
              "<seaborn.axisgrid.FacetGrid at 0x7f5c2056c910>"
            ]
          },
          "metadata": {},
          "execution_count": 41
        },
        {
          "output_type": "display_data",
          "data": {
            "text/plain": [
              "<Figure size 360x360 with 1 Axes>"
            ],
            "image/png": "[encoded data removed]"
          },
          "metadata": {
            "needs_background": "light"
          }
        }
      ]
    },
    {
      "cell_type": "code",
      "source": [
        "!gzip -dv /content/gdrive/MyDrive/colab_notebooks/data/chip-nexus/peaks-bak/Nanog.bed.gz"
      ],
      "metadata": {
        "colab": {
          "base_uri": "https://localhost:8080/"
        },
        "id": "g1jJaBSaHmrc",
        "outputId": "21eedd93-b983-40ad-a62d-bc0b9adb590f"
      },
      "execution_count": 122,
      "outputs": [
        {
          "output_type": "stream",
          "name": "stdout",
          "text": [
            "/content/gdrive/MyDrive/colab_notebooks/data/chip-nexus/peaks-bak/Nanog.bed.gz:\t 66.1% -- replaced with /content/gdrive/MyDrive/colab_notebooks/data/chip-nexus/peaks-bak/Nanog.bed\n"
          ]
        }
      ]
    },
    {
      "cell_type": "code",
      "source": [
        "len(pr.read_bed(f\"{path}chip-nexus/peaks-bak/Nanog.bed\").df)"
      ],
      "metadata": {
        "colab": {
          "base_uri": "https://localhost:8080/"
        },
        "id": "kI2BlzxgHtX2",
        "outputId": "87a60841-c200-408e-f313-fbbcc7bc7965"
      },
      "execution_count": 124,
      "outputs": [
        {
          "output_type": "execute_result",
          "data": {
            "text/plain": [
              "18017"
            ]
          },
          "metadata": {},
          "execution_count": 124
        }
      ]
    },
    {
      "cell_type": "code",
      "source": [
        "!gzip -dv /content/gdrive/MyDrive/colab_notebooks/data/chip-nexus/peaks-bak/1kb.osnk.tsv.gz"
      ],
      "metadata": {
        "colab": {
          "base_uri": "https://localhost:8080/"
        },
        "id": "ASP_ruRbBX1E",
        "outputId": "b3d5ad8d-b69f-479b-d2fc-751502083685"
      },
      "execution_count": 82,
      "outputs": [
        {
          "output_type": "stream",
          "name": "stdout",
          "text": [
            "/content/gdrive/MyDrive/colab_notebooks/data/chip-nexus/peaks-bak/1kb.osnk.tsv.gz:\t 86.6% -- replaced with /content/gdrive/MyDrive/colab_notebooks/data/chip-nexus/peaks-bak/1kb.osnk.tsv\n"
          ]
        }
      ]
    },
    {
      "cell_type": "code",
      "source": [
        "tsv_peaks=pd.read_csv(f'{path}chip-nexus/peaks-bak/1kb.osnk.tsv',sep='\\t')\n"
      ],
      "metadata": {
        "id": "uPtNeYPUBpK0"
      },
      "execution_count": 84,
      "outputs": []
    },
    {
      "cell_type": "code",
      "source": [
        "tsv_peaks.head()"
      ],
      "metadata": {
        "colab": {
          "base_uri": "https://localhost:8080/",
          "height": 206
        },
        "id": "3pI7ke1PCduw",
        "outputId": "6029f040-3e3f-4678-86ef-acd2ddd5cd41"
      },
      "execution_count": 95,
      "outputs": [
        {
          "output_type": "execute_result",
          "data": {
            "text/plain": [
              "  #chrom  start    end  task/Oct4  task/Sox2  task/Nanog  task/Klf4\n",
              "0   chr1  10000  11000          0          0           0          0\n",
              "1   chr1  11000  12000          0          0           0          0\n",
              "2   chr1  12000  13000          0          0           0          0\n",
              "3   chr1  13000  14000          0          0           0          0\n",
              "4   chr1  14000  15000          0          0           0          0"
            ],
            "text/html": [
              "\n",
              "  <div id=\"df-704eb21c-981d-475f-9de3-8bbab11f8acd\">\n",
              "    <div class=\"colab-df-container\">\n",
              "      <div>\n",
              "<style scoped>\n",
              "    .dataframe tbody tr th:only-of-type {\n",
              "        vertical-align: middle;\n",
              "    }\n",
              "\n",
              "    .dataframe tbody tr th {\n",
              "        vertical-align: top;\n",
              "    }\n",
              "\n",
              "    .dataframe thead th {\n",
              "        text-align: right;\n",
              "    }\n",
              "</style>\n",
              "<table border=\"1\" class=\"dataframe\">\n",
              "  <thead>\n",
              "    <tr style=\"text-align: right;\">\n",
              "      <th></th>\n",
              "      <th>#chrom</th>\n",
              "      <th>start</th>\n",
              "      <th>end</th>\n",
              "      <th>task/Oct4</th>\n",
              "      <th>task/Sox2</th>\n",
              "      <th>task/Nanog</th>\n",
              "      <th>task/Klf4</th>\n",
              "    </tr>\n",
              "  </thead>\n",
              "  <tbody>\n",
              "    <tr>\n",
              "      <th>0</th>\n",
              "      <td>chr1</td>\n",
              "      <td>10000</td>\n",
              "      <td>11000</td>\n",
              "      <td>0</td>\n",
              "      <td>0</td>\n",
              "      <td>0</td>\n",
              "      <td>0</td>\n",
              "    </tr>\n",
              "    <tr>\n",
              "      <th>1</th>\n",
              "      <td>chr1</td>\n",
              "      <td>11000</td>\n",
              "      <td>12000</td>\n",
              "      <td>0</td>\n",
              "      <td>0</td>\n",
              "      <td>0</td>\n",
              "      <td>0</td>\n",
              "    </tr>\n",
              "    <tr>\n",
              "      <th>2</th>\n",
              "      <td>chr1</td>\n",
              "      <td>12000</td>\n",
              "      <td>13000</td>\n",
              "      <td>0</td>\n",
              "      <td>0</td>\n",
              "      <td>0</td>\n",
              "      <td>0</td>\n",
              "    </tr>\n",
              "    <tr>\n",
              "      <th>3</th>\n",
              "      <td>chr1</td>\n",
              "      <td>13000</td>\n",
              "      <td>14000</td>\n",
              "      <td>0</td>\n",
              "      <td>0</td>\n",
              "      <td>0</td>\n",
              "      <td>0</td>\n",
              "    </tr>\n",
              "    <tr>\n",
              "      <th>4</th>\n",
              "      <td>chr1</td>\n",
              "      <td>14000</td>\n",
              "      <td>15000</td>\n",
              "      <td>0</td>\n",
              "      <td>0</td>\n",
              "      <td>0</td>\n",
              "      <td>0</td>\n",
              "    </tr>\n",
              "  </tbody>\n",
              "</table>\n",
              "</div>\n",
              "      <button class=\"colab-df-convert\" onclick=\"convertToInteractive('df-704eb21c-981d-475f-9de3-8bbab11f8acd')\"\n",
              "              title=\"Convert this dataframe to an interactive table.\"\n",
              "              style=\"display:none;\">\n",
              "        \n",
              "  <svg xmlns=\"http://www.w3.org/2000/svg\" height=\"24px\"viewBox=\"0 0 24 24\"\n",
              "       width=\"24px\">\n",
              "    <path d=\"M0 0h24v24H0V0z\" fill=\"none\"/>\n",
              "    <path d=\"M18.56 5.44l.94 2.06.94-2.06 2.06-.94-2.06-.94-.94-2.06-.94 2.06-2.06.94zm-11 1L8.5 8.5l.94-2.06 2.06-.94-2.06-.94L8.5 2.5l-.94 2.06-2.06.94zm10 10l.94 2.06.94-2.06 2.06-.94-2.06-.94-.94-2.06-.94 2.06-2.06.94z\"/><path d=\"M17.41 7.96l-1.37-1.37c-.4-.4-.92-.59-1.43-.59-.52 0-1.04.2-1.43.59L10.3 9.45l-7.72 7.72c-.78.78-.78 2.05 0 2.83L4 21.41c.39.39.9.59 1.41.59.51 0 1.02-.2 1.41-.59l7.78-7.78 2.81-2.81c.8-.78.8-2.07 0-2.86zM5.41 20L4 18.59l7.72-7.72 1.47 1.35L5.41 20z\"/>\n",
              "  </svg>\n",
              "      </button>\n",
              "      \n",
              "  <style>\n",
              "    .colab-df-container {\n",
              "      display:flex;\n",
              "      flex-wrap:wrap;\n",
              "      gap: 12px;\n",
              "    }\n",
              "\n",
              "    .colab-df-convert {\n",
              "      background-color: #E8F0FE;\n",
              "      border: none;\n",
              "      border-radius: 50%;\n",
              "      cursor: pointer;\n",
              "      display: none;\n",
              "      fill: #1967D2;\n",
              "      height: 32px;\n",
              "      padding: 0 0 0 0;\n",
              "      width: 32px;\n",
              "    }\n",
              "\n",
              "    .colab-df-convert:hover {\n",
              "      background-color: #E2EBFA;\n",
              "      box-shadow: 0px 1px 2px rgba(60, 64, 67, 0.3), 0px 1px 3px 1px rgba(60, 64, 67, 0.15);\n",
              "      fill: #174EA6;\n",
              "    }\n",
              "\n",
              "    [theme=dark] .colab-df-convert {\n",
              "      background-color: #3B4455;\n",
              "      fill: #D2E3FC;\n",
              "    }\n",
              "\n",
              "    [theme=dark] .colab-df-convert:hover {\n",
              "      background-color: #434B5C;\n",
              "      box-shadow: 0px 1px 3px 1px rgba(0, 0, 0, 0.15);\n",
              "      filter: drop-shadow(0px 1px 2px rgba(0, 0, 0, 0.3));\n",
              "      fill: #FFFFFF;\n",
              "    }\n",
              "  </style>\n",
              "\n",
              "      <script>\n",
              "        const buttonEl =\n",
              "          document.querySelector('#df-704eb21c-981d-475f-9de3-8bbab11f8acd button.colab-df-convert');\n",
              "        buttonEl.style.display =\n",
              "          google.colab.kernel.accessAllowed ? 'block' : 'none';\n",
              "\n",
              "        async function convertToInteractive(key) {\n",
              "          const element = document.querySelector('#df-704eb21c-981d-475f-9de3-8bbab11f8acd');\n",
              "          const dataTable =\n",
              "            await google.colab.kernel.invokeFunction('convertToInteractive',\n",
              "                                                     [key], {});\n",
              "          if (!dataTable) return;\n",
              "\n",
              "          const docLinkHtml = 'Like what you see? Visit the ' +\n",
              "            '<a target=\"_blank\" href=https://colab.research.google.com/notebooks/data_table.ipynb>data table notebook</a>'\n",
              "            + ' to learn more about interactive tables.';\n",
              "          element.innerHTML = '';\n",
              "          dataTable['output_type'] = 'display_data';\n",
              "          await google.colab.output.renderOutput(dataTable, element);\n",
              "          const docLink = document.createElement('div');\n",
              "          docLink.innerHTML = docLinkHtml;\n",
              "          element.appendChild(docLink);\n",
              "        }\n",
              "      </script>\n",
              "    </div>\n",
              "  </div>\n",
              "  "
            ]
          },
          "metadata": {},
          "execution_count": 95
        }
      ]
    },
    {
      "cell_type": "code",
      "source": [
        "tsv_peaks[\"task/Sox2\"].sum()"
      ],
      "metadata": {
        "colab": {
          "base_uri": "https://localhost:8080/"
        },
        "id": "94OcJBByB9m8",
        "outputId": "95984679-1983-4abd-f5a3-ec2b791aeada"
      },
      "execution_count": 93,
      "outputs": [
        {
          "output_type": "execute_result",
          "data": {
            "text/plain": [
              "10963"
            ]
          },
          "metadata": {},
          "execution_count": 93
        }
      ]
    },
    {
      "cell_type": "markdown",
      "source": [
        "# Summit\n",
        "\n",
        "This file contains the peak summit coordinates. Each entry has width 1. This has 11,000 rows. However, I am not sure how this corresponds to the Peak bed file for example."
      ],
      "metadata": {
        "id": "vQ-G62j-34Wd"
      }
    },
    {
      "cell_type": "code",
      "source": [
        "#!gzip -dv /content/gdrive/MyDrive/colab_notebooks/data/chip-nexus/Sox2/idr-optimal-set.summit.bed\n"
      ],
      "metadata": {
        "colab": {
          "base_uri": "https://localhost:8080/"
        },
        "id": "GCzC_mFH-0rB",
        "outputId": "dcb17a53-bfb4-4283-eb66-9e3080d0af86"
      },
      "execution_count": 48,
      "outputs": [
        {
          "output_type": "stream",
          "name": "stdout",
          "text": [
            "/content/gdrive/MyDrive/colab_notebooks/data/chip-nexus/Sox2/idr-optimal-set.summit.bed.gz:\t 66.0% -- replaced with /content/gdrive/MyDrive/colab_notebooks/data/chip-nexus/Sox2/idr-optimal-set.summit.bed\n"
          ]
        }
      ]
    },
    {
      "cell_type": "code",
      "source": [
        "sox2_summit = pr.read_bed(f\"{path}chip-nexus/Sox2/idr-optimal-set.summit.bed\")"
      ],
      "metadata": {
        "id": "HjeR8qSJ35nL"
      },
      "execution_count": 49,
      "outputs": []
    },
    {
      "cell_type": "code",
      "source": [
        "len(sox2_summit)"
      ],
      "metadata": {
        "colab": {
          "base_uri": "https://localhost:8080/"
        },
        "id": "AUTCB4v_4a21",
        "outputId": "4f30b387-e545-4d4c-9e47-3393d821c7f6"
      },
      "execution_count": 50,
      "outputs": [
        {
          "output_type": "execute_result",
          "data": {
            "text/plain": [
              "10999"
            ]
          },
          "metadata": {},
          "execution_count": 50
        }
      ]
    },
    {
      "cell_type": "code",
      "source": [
        "sox2_summit.df.head()"
      ],
      "metadata": {
        "colab": {
          "base_uri": "https://localhost:8080/",
          "height": 206
        },
        "id": "NKtuS3ZN36T2",
        "outputId": "36f68493-4d84-4d54-c8f5-a1ee6c74658c"
      },
      "execution_count": 52,
      "outputs": [
        {
          "output_type": "execute_result",
          "data": {
            "text/plain": [
              "  Chromosome      Start        End\n",
              "0       chr1  134535275  134535276\n",
              "1       chr1   36986004   36986005\n",
              "2       chr1  133340647  133340648\n",
              "3       chr1   72793396   72793397\n",
              "4       chr1  180924934  180924935"
            ],
            "text/html": [
              "\n",
              "  <div id=\"df-a5afb684-af9c-42c0-8ae7-52be5c11e250\">\n",
              "    <div class=\"colab-df-container\">\n",
              "      <div>\n",
              "<style scoped>\n",
              "    .dataframe tbody tr th:only-of-type {\n",
              "        vertical-align: middle;\n",
              "    }\n",
              "\n",
              "    .dataframe tbody tr th {\n",
              "        vertical-align: top;\n",
              "    }\n",
              "\n",
              "    .dataframe thead th {\n",
              "        text-align: right;\n",
              "    }\n",
              "</style>\n",
              "<table border=\"1\" class=\"dataframe\">\n",
              "  <thead>\n",
              "    <tr style=\"text-align: right;\">\n",
              "      <th></th>\n",
              "      <th>Chromosome</th>\n",
              "      <th>Start</th>\n",
              "      <th>End</th>\n",
              "    </tr>\n",
              "  </thead>\n",
              "  <tbody>\n",
              "    <tr>\n",
              "      <th>0</th>\n",
              "      <td>chr1</td>\n",
              "      <td>134535275</td>\n",
              "      <td>134535276</td>\n",
              "    </tr>\n",
              "    <tr>\n",
              "      <th>1</th>\n",
              "      <td>chr1</td>\n",
              "      <td>36986004</td>\n",
              "      <td>36986005</td>\n",
              "    </tr>\n",
              "    <tr>\n",
              "      <th>2</th>\n",
              "      <td>chr1</td>\n",
              "      <td>133340647</td>\n",
              "      <td>133340648</td>\n",
              "    </tr>\n",
              "    <tr>\n",
              "      <th>3</th>\n",
              "      <td>chr1</td>\n",
              "      <td>72793396</td>\n",
              "      <td>72793397</td>\n",
              "    </tr>\n",
              "    <tr>\n",
              "      <th>4</th>\n",
              "      <td>chr1</td>\n",
              "      <td>180924934</td>\n",
              "      <td>180924935</td>\n",
              "    </tr>\n",
              "  </tbody>\n",
              "</table>\n",
              "</div>\n",
              "      <button class=\"colab-df-convert\" onclick=\"convertToInteractive('df-a5afb684-af9c-42c0-8ae7-52be5c11e250')\"\n",
              "              title=\"Convert this dataframe to an interactive table.\"\n",
              "              style=\"display:none;\">\n",
              "        \n",
              "  <svg xmlns=\"http://www.w3.org/2000/svg\" height=\"24px\"viewBox=\"0 0 24 24\"\n",
              "       width=\"24px\">\n",
              "    <path d=\"M0 0h24v24H0V0z\" fill=\"none\"/>\n",
              "    <path d=\"M18.56 5.44l.94 2.06.94-2.06 2.06-.94-2.06-.94-.94-2.06-.94 2.06-2.06.94zm-11 1L8.5 8.5l.94-2.06 2.06-.94-2.06-.94L8.5 2.5l-.94 2.06-2.06.94zm10 10l.94 2.06.94-2.06 2.06-.94-2.06-.94-.94-2.06-.94 2.06-2.06.94z\"/><path d=\"M17.41 7.96l-1.37-1.37c-.4-.4-.92-.59-1.43-.59-.52 0-1.04.2-1.43.59L10.3 9.45l-7.72 7.72c-.78.78-.78 2.05 0 2.83L4 21.41c.39.39.9.59 1.41.59.51 0 1.02-.2 1.41-.59l7.78-7.78 2.81-2.81c.8-.78.8-2.07 0-2.86zM5.41 20L4 18.59l7.72-7.72 1.47 1.35L5.41 20z\"/>\n",
              "  </svg>\n",
              "      </button>\n",
              "      \n",
              "  <style>\n",
              "    .colab-df-container {\n",
              "      display:flex;\n",
              "      flex-wrap:wrap;\n",
              "      gap: 12px;\n",
              "    }\n",
              "\n",
              "    .colab-df-convert {\n",
              "      background-color: #E8F0FE;\n",
              "      border: none;\n",
              "      border-radius: 50%;\n",
              "      cursor: pointer;\n",
              "      display: none;\n",
              "      fill: #1967D2;\n",
              "      height: 32px;\n",
              "      padding: 0 0 0 0;\n",
              "      width: 32px;\n",
              "    }\n",
              "\n",
              "    .colab-df-convert:hover {\n",
              "      background-color: #E2EBFA;\n",
              "      box-shadow: 0px 1px 2px rgba(60, 64, 67, 0.3), 0px 1px 3px 1px rgba(60, 64, 67, 0.15);\n",
              "      fill: #174EA6;\n",
              "    }\n",
              "\n",
              "    [theme=dark] .colab-df-convert {\n",
              "      background-color: #3B4455;\n",
              "      fill: #D2E3FC;\n",
              "    }\n",
              "\n",
              "    [theme=dark] .colab-df-convert:hover {\n",
              "      background-color: #434B5C;\n",
              "      box-shadow: 0px 1px 3px 1px rgba(0, 0, 0, 0.15);\n",
              "      filter: drop-shadow(0px 1px 2px rgba(0, 0, 0, 0.3));\n",
              "      fill: #FFFFFF;\n",
              "    }\n",
              "  </style>\n",
              "\n",
              "      <script>\n",
              "        const buttonEl =\n",
              "          document.querySelector('#df-a5afb684-af9c-42c0-8ae7-52be5c11e250 button.colab-df-convert');\n",
              "        buttonEl.style.display =\n",
              "          google.colab.kernel.accessAllowed ? 'block' : 'none';\n",
              "\n",
              "        async function convertToInteractive(key) {\n",
              "          const element = document.querySelector('#df-a5afb684-af9c-42c0-8ae7-52be5c11e250');\n",
              "          const dataTable =\n",
              "            await google.colab.kernel.invokeFunction('convertToInteractive',\n",
              "                                                     [key], {});\n",
              "          if (!dataTable) return;\n",
              "\n",
              "          const docLinkHtml = 'Like what you see? Visit the ' +\n",
              "            '<a target=\"_blank\" href=https://colab.research.google.com/notebooks/data_table.ipynb>data table notebook</a>'\n",
              "            + ' to learn more about interactive tables.';\n",
              "          element.innerHTML = '';\n",
              "          dataTable['output_type'] = 'display_data';\n",
              "          await google.colab.output.renderOutput(dataTable, element);\n",
              "          const docLink = document.createElement('div');\n",
              "          docLink.innerHTML = docLinkHtml;\n",
              "          element.appendChild(docLink);\n",
              "        }\n",
              "      </script>\n",
              "    </div>\n",
              "  </div>\n",
              "  "
            ]
          },
          "metadata": {},
          "execution_count": 52
        }
      ]
    },
    {
      "cell_type": "code",
      "source": [
        "sox2_summit.lengths()[0]"
      ],
      "metadata": {
        "colab": {
          "base_uri": "https://localhost:8080/"
        },
        "id": "zRPcYE9U3873",
        "outputId": "b6bca3de-b0f3-4b62-8e2f-db5566587859"
      },
      "execution_count": 53,
      "outputs": [
        {
          "output_type": "execute_result",
          "data": {
            "text/plain": [
              "1"
            ]
          },
          "metadata": {},
          "execution_count": 53
        }
      ]
    },
    {
      "cell_type": "markdown",
      "source": [
        "# intersected set\n",
        "\n",
        "In this folder there is one file TF.intepretation.tsv and TF.interpretation.bed.\n",
        "\n",
        "I have no clue what this is supposed to be."
      ],
      "metadata": {
        "id": "rJc1_gIXDHMB"
      }
    },
    {
      "cell_type": "code",
      "source": [
        "#!gzip -dv /content/gdrive/MyDrive/colab_notebooks/data/intersected_set/Sox2.interpretation.bed.gz"
      ],
      "metadata": {
        "colab": {
          "base_uri": "https://localhost:8080/"
        },
        "id": "Oddl3D04DNj6",
        "outputId": "3082b3ba-8f72-4da3-972a-4e894d5fdaa6"
      },
      "execution_count": 97,
      "outputs": [
        {
          "output_type": "stream",
          "name": "stdout",
          "text": [
            "/content/gdrive/MyDrive/colab_notebooks/data/intersected_set/Sox2.interpretation.bed.gz:\t 69.8% -- replaced with /content/gdrive/MyDrive/colab_notebooks/data/intersected_set/Sox2.interpretation.bed\n"
          ]
        }
      ]
    },
    {
      "cell_type": "code",
      "source": [
        "inter = pr.read_bed(f\"{path}intersected_set/Sox2.interpretation.bed\")"
      ],
      "metadata": {
        "id": "M9QCeZk3DGUj"
      },
      "execution_count": 99,
      "outputs": []
    },
    {
      "cell_type": "code",
      "source": [
        "\n",
        "inter.df.head()"
      ],
      "metadata": {
        "colab": {
          "base_uri": "https://localhost:8080/",
          "height": 206
        },
        "id": "Iq_o8OIqDhZt",
        "outputId": "2fc96472-a0f5-46f8-d320-a6bcfd2db2ef"
      },
      "execution_count": 100,
      "outputs": [
        {
          "output_type": "execute_result",
          "data": {
            "text/plain": [
              "  Chromosome    Start      End\n",
              "0       chr1  3062400  3063400\n",
              "1       chr1  3445600  3446600\n",
              "2       chr1  4150600  4151600\n",
              "3       chr1  4659800  4660800\n",
              "4       chr1  4802200  4803200"
            ],
            "text/html": [
              "\n",
              "  <div id=\"df-19e383e2-6b66-43ed-b05c-1e25fc39e34d\">\n",
              "    <div class=\"colab-df-container\">\n",
              "      <div>\n",
              "<style scoped>\n",
              "    .dataframe tbody tr th:only-of-type {\n",
              "        vertical-align: middle;\n",
              "    }\n",
              "\n",
              "    .dataframe tbody tr th {\n",
              "        vertical-align: top;\n",
              "    }\n",
              "\n",
              "    .dataframe thead th {\n",
              "        text-align: right;\n",
              "    }\n",
              "</style>\n",
              "<table border=\"1\" class=\"dataframe\">\n",
              "  <thead>\n",
              "    <tr style=\"text-align: right;\">\n",
              "      <th></th>\n",
              "      <th>Chromosome</th>\n",
              "      <th>Start</th>\n",
              "      <th>End</th>\n",
              "    </tr>\n",
              "  </thead>\n",
              "  <tbody>\n",
              "    <tr>\n",
              "      <th>0</th>\n",
              "      <td>chr1</td>\n",
              "      <td>3062400</td>\n",
              "      <td>3063400</td>\n",
              "    </tr>\n",
              "    <tr>\n",
              "      <th>1</th>\n",
              "      <td>chr1</td>\n",
              "      <td>3445600</td>\n",
              "      <td>3446600</td>\n",
              "    </tr>\n",
              "    <tr>\n",
              "      <th>2</th>\n",
              "      <td>chr1</td>\n",
              "      <td>4150600</td>\n",
              "      <td>4151600</td>\n",
              "    </tr>\n",
              "    <tr>\n",
              "      <th>3</th>\n",
              "      <td>chr1</td>\n",
              "      <td>4659800</td>\n",
              "      <td>4660800</td>\n",
              "    </tr>\n",
              "    <tr>\n",
              "      <th>4</th>\n",
              "      <td>chr1</td>\n",
              "      <td>4802200</td>\n",
              "      <td>4803200</td>\n",
              "    </tr>\n",
              "  </tbody>\n",
              "</table>\n",
              "</div>\n",
              "      <button class=\"colab-df-convert\" onclick=\"convertToInteractive('df-19e383e2-6b66-43ed-b05c-1e25fc39e34d')\"\n",
              "              title=\"Convert this dataframe to an interactive table.\"\n",
              "              style=\"display:none;\">\n",
              "        \n",
              "  <svg xmlns=\"http://www.w3.org/2000/svg\" height=\"24px\"viewBox=\"0 0 24 24\"\n",
              "       width=\"24px\">\n",
              "    <path d=\"M0 0h24v24H0V0z\" fill=\"none\"/>\n",
              "    <path d=\"M18.56 5.44l.94 2.06.94-2.06 2.06-.94-2.06-.94-.94-2.06-.94 2.06-2.06.94zm-11 1L8.5 8.5l.94-2.06 2.06-.94-2.06-.94L8.5 2.5l-.94 2.06-2.06.94zm10 10l.94 2.06.94-2.06 2.06-.94-2.06-.94-.94-2.06-.94 2.06-2.06.94z\"/><path d=\"M17.41 7.96l-1.37-1.37c-.4-.4-.92-.59-1.43-.59-.52 0-1.04.2-1.43.59L10.3 9.45l-7.72 7.72c-.78.78-.78 2.05 0 2.83L4 21.41c.39.39.9.59 1.41.59.51 0 1.02-.2 1.41-.59l7.78-7.78 2.81-2.81c.8-.78.8-2.07 0-2.86zM5.41 20L4 18.59l7.72-7.72 1.47 1.35L5.41 20z\"/>\n",
              "  </svg>\n",
              "      </button>\n",
              "      \n",
              "  <style>\n",
              "    .colab-df-container {\n",
              "      display:flex;\n",
              "      flex-wrap:wrap;\n",
              "      gap: 12px;\n",
              "    }\n",
              "\n",
              "    .colab-df-convert {\n",
              "      background-color: #E8F0FE;\n",
              "      border: none;\n",
              "      border-radius: 50%;\n",
              "      cursor: pointer;\n",
              "      display: none;\n",
              "      fill: #1967D2;\n",
              "      height: 32px;\n",
              "      padding: 0 0 0 0;\n",
              "      width: 32px;\n",
              "    }\n",
              "\n",
              "    .colab-df-convert:hover {\n",
              "      background-color: #E2EBFA;\n",
              "      box-shadow: 0px 1px 2px rgba(60, 64, 67, 0.3), 0px 1px 3px 1px rgba(60, 64, 67, 0.15);\n",
              "      fill: #174EA6;\n",
              "    }\n",
              "\n",
              "    [theme=dark] .colab-df-convert {\n",
              "      background-color: #3B4455;\n",
              "      fill: #D2E3FC;\n",
              "    }\n",
              "\n",
              "    [theme=dark] .colab-df-convert:hover {\n",
              "      background-color: #434B5C;\n",
              "      box-shadow: 0px 1px 3px 1px rgba(0, 0, 0, 0.15);\n",
              "      filter: drop-shadow(0px 1px 2px rgba(0, 0, 0, 0.3));\n",
              "      fill: #FFFFFF;\n",
              "    }\n",
              "  </style>\n",
              "\n",
              "      <script>\n",
              "        const buttonEl =\n",
              "          document.querySelector('#df-19e383e2-6b66-43ed-b05c-1e25fc39e34d button.colab-df-convert');\n",
              "        buttonEl.style.display =\n",
              "          google.colab.kernel.accessAllowed ? 'block' : 'none';\n",
              "\n",
              "        async function convertToInteractive(key) {\n",
              "          const element = document.querySelector('#df-19e383e2-6b66-43ed-b05c-1e25fc39e34d');\n",
              "          const dataTable =\n",
              "            await google.colab.kernel.invokeFunction('convertToInteractive',\n",
              "                                                     [key], {});\n",
              "          if (!dataTable) return;\n",
              "\n",
              "          const docLinkHtml = 'Like what you see? Visit the ' +\n",
              "            '<a target=\"_blank\" href=https://colab.research.google.com/notebooks/data_table.ipynb>data table notebook</a>'\n",
              "            + ' to learn more about interactive tables.';\n",
              "          element.innerHTML = '';\n",
              "          dataTable['output_type'] = 'display_data';\n",
              "          await google.colab.output.renderOutput(dataTable, element);\n",
              "          const docLink = document.createElement('div');\n",
              "          docLink.innerHTML = docLinkHtml;\n",
              "          element.appendChild(docLink);\n",
              "        }\n",
              "      </script>\n",
              "    </div>\n",
              "  </div>\n",
              "  "
            ]
          },
          "metadata": {},
          "execution_count": 100
        }
      ]
    },
    {
      "cell_type": "code",
      "source": [
        "len(inter.df)"
      ],
      "metadata": {
        "colab": {
          "base_uri": "https://localhost:8080/"
        },
        "id": "R_vifKiQDkUh",
        "outputId": "4f2ad5e5-af51-430b-d052-ccd29d4116f8"
      },
      "execution_count": 103,
      "outputs": [
        {
          "output_type": "execute_result",
          "data": {
            "text/plain": [
              "7303"
            ]
          },
          "metadata": {},
          "execution_count": 103
        }
      ]
    },
    {
      "cell_type": "markdown",
      "source": [
        "#"
      ],
      "metadata": {
        "id": "zeV4GiD16MG0"
      }
    },
    {
      "cell_type": "markdown",
      "source": [
        "# Counts\n",
        "\n",
        "There are bigWig files of positive and negative strand. BigWig format was originally intended for the use with genome browser tracks. From this dataformat we can retrieve original values for each base using the value() accessor. \n",
        "\n",
        "\n",
        "\n",
        "Apparently, these bigWig files are very sparse. Just one count for a single base pair. To find any values I chose regions from the regions.bed file. I don't really understand how these files are created. If we do Chip-nexus I would expect that adjacent bp should all have counts and that we should have more counts mapping to a base."
      ],
      "metadata": {
        "id": "wT4D3YV46MW0"
      }
    },
    {
      "cell_type": "code",
      "source": [
        "bw = pyBigWig.open(f\"{path}chip-nexus/Sox2/counts.pos.bw\")\n"
      ],
      "metadata": {
        "id": "7vlySDxA6OeP"
      },
      "execution_count": 55,
      "outputs": []
    },
    {
      "cell_type": "code",
      "source": [
        "# Dictionary of all chromosomes\n",
        "bw.chroms()"
      ],
      "metadata": {
        "colab": {
          "base_uri": "https://localhost:8080/"
        },
        "id": "IJ7Ia06P6rgs",
        "outputId": "f03df900-ae68-4c2d-9d44-2ee1d25d4c08"
      },
      "execution_count": 56,
      "outputs": [
        {
          "output_type": "execute_result",
          "data": {
            "text/plain": [
              "{'chr1': 195471971,\n",
              " 'chr10': 130694993,\n",
              " 'chr11': 122082543,\n",
              " 'chr12': 120129022,\n",
              " 'chr13': 120421639,\n",
              " 'chr14': 124902244,\n",
              " 'chr15': 104043685,\n",
              " 'chr16': 98207768,\n",
              " 'chr17': 94987271,\n",
              " 'chr18': 90702639,\n",
              " 'chr19': 61431566,\n",
              " 'chr1_GL456210_random': 169725,\n",
              " 'chr1_GL456211_random': 241735,\n",
              " 'chr1_GL456212_random': 153618,\n",
              " 'chr1_GL456221_random': 206961,\n",
              " 'chr2': 182113224,\n",
              " 'chr3': 160039680,\n",
              " 'chr4': 156508116,\n",
              " 'chr4_GL456216_random': 66673,\n",
              " 'chr4_GL456350_random': 227966,\n",
              " 'chr4_JH584292_random': 14945,\n",
              " 'chr4_JH584295_random': 1976,\n",
              " 'chr5': 151834684,\n",
              " 'chr5_GL456354_random': 195993,\n",
              " 'chr5_JH584296_random': 199368,\n",
              " 'chr5_JH584297_random': 205776,\n",
              " 'chr5_JH584299_random': 953012,\n",
              " 'chr6': 149736546,\n",
              " 'chr7': 145441459,\n",
              " 'chr8': 129401213,\n",
              " 'chr9': 124595110,\n",
              " 'chrUn_GL456239': 40056,\n",
              " 'chrUn_GL456359': 22974,\n",
              " 'chrUn_GL456360': 31704,\n",
              " 'chrUn_GL456366': 47073,\n",
              " 'chrUn_GL456367': 42057,\n",
              " 'chrUn_GL456368': 20208,\n",
              " 'chrUn_GL456370': 26764,\n",
              " 'chrUn_GL456372': 28664,\n",
              " 'chrUn_GL456378': 31602,\n",
              " 'chrUn_GL456379': 72385,\n",
              " 'chrUn_GL456381': 25871,\n",
              " 'chrUn_GL456382': 23158,\n",
              " 'chrUn_GL456383': 38659,\n",
              " 'chrUn_GL456385': 35240,\n",
              " 'chrUn_GL456387': 24685,\n",
              " 'chrUn_GL456389': 28772,\n",
              " 'chrUn_GL456390': 24668,\n",
              " 'chrUn_GL456392': 23629,\n",
              " 'chrUn_GL456393': 55711,\n",
              " 'chrUn_GL456394': 24323,\n",
              " 'chrUn_GL456396': 21240,\n",
              " 'chrUn_JH584304': 114452,\n",
              " 'chrX': 171031299,\n",
              " 'chrX_GL456233_random': 336933,\n",
              " 'chrY': 91744698}"
            ]
          },
          "metadata": {},
          "execution_count": 56
        }
      ]
    },
    {
      "cell_type": "code",
      "source": [
        "bw.header()"
      ],
      "metadata": {
        "colab": {
          "base_uri": "https://localhost:8080/"
        },
        "id": "0f1OM71j7Htq",
        "outputId": "2c670840-87fb-41f8-b309-197de0905f91"
      },
      "execution_count": 57,
      "outputs": [
        {
          "output_type": "execute_result",
          "data": {
            "text/plain": [
              "{'maxVal': 11251,\n",
              " 'minVal': 1,\n",
              " 'nBasesCovered': 66966584,\n",
              " 'nLevels': 10,\n",
              " 'sumData': 70060402,\n",
              " 'sumSquared': 3000601893,\n",
              " 'version': 4}"
            ]
          },
          "metadata": {},
          "execution_count": 57
        }
      ]
    },
    {
      "cell_type": "code",
      "source": [
        "bw.chroms()[\"chr1\"]"
      ],
      "metadata": {
        "colab": {
          "base_uri": "https://localhost:8080/"
        },
        "id": "kMeR8_PEBQeI",
        "outputId": "2c8b0a33-efaf-4146-b7c1-8fe81e690f6a"
      },
      "execution_count": 58,
      "outputs": [
        {
          "output_type": "execute_result",
          "data": {
            "text/plain": [
              "195471971"
            ]
          },
          "metadata": {},
          "execution_count": 58
        }
      ]
    },
    {
      "cell_type": "code",
      "source": [
        "test = bw.values(\"chr10\", 0, 10000, numpy=True)# bw.chroms()[\"chr1\"])\n",
        "test"
      ],
      "metadata": {
        "id": "ughUJL6-79qv",
        "colab": {
          "base_uri": "https://localhost:8080/"
        },
        "outputId": "5c74d0a4-31e2-4775-fb02-bc12504b2ce6"
      },
      "execution_count": 61,
      "outputs": [
        {
          "output_type": "execute_result",
          "data": {
            "text/plain": [
              "array([nan, nan, nan, ..., nan, nan, nan], dtype=float32)"
            ]
          },
          "metadata": {},
          "execution_count": 61
        }
      ]
    },
    {
      "cell_type": "code",
      "source": [
        "# this is a region from the input sequence\n",
        "bw.values(\"chr1\", 171033437, 171033437+1000, numpy=True)[0:500]"
      ],
      "metadata": {
        "colab": {
          "base_uri": "https://localhost:8080/"
        },
        "id": "ZnneTU18B8GB",
        "outputId": "a5fe7d2a-e528-4845-f014-a364f1cdc679"
      },
      "execution_count": 63,
      "outputs": [
        {
          "output_type": "execute_result",
          "data": {
            "text/plain": [
              "array([nan, nan, nan,  1., nan, nan, nan, nan, nan, nan, nan, nan, nan,\n",
              "       nan, nan, nan,  1.,  1., nan, nan, nan, nan, nan, nan, nan, nan,\n",
              "       nan, nan, nan, nan,  1., nan, nan, nan, nan, nan, nan, nan, nan,\n",
              "       nan,  1., nan,  1., nan, nan, nan, nan, nan,  1., nan, nan, nan,\n",
              "       nan, nan, nan, nan, nan, nan, nan, nan, nan, nan, nan,  1., nan,\n",
              "       nan, nan, nan, nan, nan, nan, nan, nan, nan, nan, nan,  1., nan,\n",
              "       nan, nan, nan, nan, nan, nan, nan, nan, nan, nan, nan, nan, nan,\n",
              "       nan, nan, nan, nan, nan, nan, nan, nan, nan, nan, nan, nan, nan,\n",
              "       nan, nan, nan, nan, nan, nan, nan,  1., nan, nan, nan, nan, nan,\n",
              "       nan, nan, nan, nan, nan,  1., nan, nan, nan,  2., nan, nan, nan,\n",
              "       nan, nan, nan, nan, nan, nan, nan, nan, nan, nan, nan, nan, nan,\n",
              "       nan, nan, nan, nan, nan, nan,  1., nan, nan, nan, nan, nan, nan,\n",
              "       nan, nan, nan, nan, nan, nan, nan, nan,  1., nan, nan, nan, nan,\n",
              "       nan, nan, nan,  1., nan, nan, nan, nan, nan, nan, nan, nan, nan,\n",
              "       nan, nan, nan, nan, nan, nan,  1., nan, nan, nan, nan, nan, nan,\n",
              "       nan, nan, nan, nan, nan, nan, nan, nan, nan, nan, nan, nan, nan,\n",
              "       nan, nan, nan, nan, nan, nan, nan, nan, nan, nan, nan, nan, nan,\n",
              "       nan, nan, nan, nan, nan, nan, nan, nan, nan, nan, nan,  1., nan,\n",
              "       nan,  2., nan, nan, nan,  1., nan, nan, nan, nan, nan, nan,  1.,\n",
              "       nan, nan, nan, nan, nan, nan, nan, nan, nan, nan, nan, nan, nan,\n",
              "       nan, nan, nan, nan, nan,  1., nan, nan, nan, nan, nan,  1., nan,\n",
              "       nan, nan, nan, nan, nan,  1., nan, nan, nan, nan, nan, nan, nan,\n",
              "       nan, nan, nan, nan, nan, nan, nan, nan, nan, nan, nan,  1., nan,\n",
              "       nan, nan, nan, nan, nan, nan, nan, nan, nan, nan, nan, nan, nan,\n",
              "       nan, nan, nan, nan, nan, nan, nan, nan, nan, nan, nan, nan,  1.,\n",
              "       nan, nan, nan, nan, nan,  1., nan, nan, nan,  1., nan, nan, nan,\n",
              "       nan, nan, nan, nan, nan, nan, nan, nan,  1., nan, nan, nan,  1.,\n",
              "       nan, nan, nan, nan,  1.,  1., nan, nan, nan, nan, nan, nan, nan,\n",
              "       nan, nan, nan, nan, nan, nan, nan, nan,  1., nan,  1.,  1., nan,\n",
              "        1., nan, nan, nan, nan,  2.,  1., nan,  1.,  1., nan, nan, nan,\n",
              "       nan, nan, nan, nan, nan, nan, nan, nan,  1., nan, nan, nan, nan,\n",
              "       nan, nan, nan, nan, nan, nan,  1., nan, nan, nan, nan, nan, nan,\n",
              "       nan, nan, nan, nan, nan,  1., nan, nan, nan, nan,  1., nan, nan,\n",
              "       nan, nan, nan,  1., nan, nan, nan, nan, nan, nan, nan, nan,  2.,\n",
              "       nan,  1., nan, nan, nan, nan, nan, nan, nan, nan, nan, nan,  1.,\n",
              "       nan, nan, nan,  2., nan, nan, nan, nan,  1.,  1., nan,  1.,  1.,\n",
              "       nan, nan, nan, nan, nan, nan, nan,  1., nan, nan, nan,  1., nan,\n",
              "        1., nan, nan, nan, nan, nan, nan, nan,  1.,  3.,  1.,  1., nan,\n",
              "        1.,  3.,  1., nan,  1., nan], dtype=float32)"
            ]
          },
          "metadata": {},
          "execution_count": 63
        }
      ]
    },
    {
      "cell_type": "code",
      "source": [
        "# this is a region from the input sequence\n",
        "bw.values(\"chr1\", 165641843, 165641843+1000, numpy=True)[0:500]"
      ],
      "metadata": {
        "colab": {
          "base_uri": "https://localhost:8080/"
        },
        "id": "Pc7jhuzNH61h",
        "outputId": "5b0e02ea-5d38-4a2a-b804-9433eb6ebaf0"
      },
      "execution_count": 65,
      "outputs": [
        {
          "output_type": "execute_result",
          "data": {
            "text/plain": [
              "array([nan, nan, nan, nan, nan, nan,  1., nan, nan, nan, nan, nan, nan,\n",
              "       nan, nan, nan, nan, nan, nan, nan, nan, nan, nan,  1., nan, nan,\n",
              "       nan, nan, nan, nan, nan, nan, nan, nan, nan, nan, nan, nan, nan,\n",
              "       nan, nan, nan, nan,  1., nan, nan, nan,  1., nan, nan, nan, nan,\n",
              "       nan, nan, nan, nan, nan, nan, nan, nan, nan, nan, nan, nan, nan,\n",
              "       nan, nan, nan, nan, nan, nan, nan, nan, nan, nan,  1., nan, nan,\n",
              "       nan, nan,  1., nan, nan, nan, nan, nan, nan, nan, nan, nan, nan,\n",
              "       nan, nan, nan, nan, nan, nan, nan, nan, nan,  1.,  1., nan, nan,\n",
              "       nan, nan, nan, nan, nan, nan, nan, nan, nan, nan, nan, nan, nan,\n",
              "       nan, nan, nan, nan, nan, nan, nan, nan, nan, nan, nan, nan,  1.,\n",
              "       nan, nan, nan,  1.,  1., nan, nan, nan, nan, nan, nan,  1., nan,\n",
              "       nan, nan, nan, nan, nan, nan, nan, nan,  1., nan, nan, nan, nan,\n",
              "       nan, nan, nan, nan, nan, nan, nan, nan, nan, nan, nan, nan, nan,\n",
              "       nan, nan, nan, nan, nan, nan, nan, nan, nan, nan, nan, nan, nan,\n",
              "       nan, nan, nan, nan, nan, nan, nan,  2., nan, nan, nan, nan, nan,\n",
              "       nan, nan, nan, nan, nan, nan, nan, nan, nan, nan, nan, nan, nan,\n",
              "       nan, nan, nan, nan, nan, nan,  1., nan, nan, nan, nan, nan, nan,\n",
              "       nan,  1., nan, nan, nan, nan, nan,  1., nan, nan, nan, nan, nan,\n",
              "       nan, nan, nan, nan, nan, nan, nan, nan, nan, nan, nan, nan, nan,\n",
              "       nan, nan, nan, nan, nan, nan, nan, nan, nan, nan, nan, nan, nan,\n",
              "       nan,  1., nan, nan, nan, nan,  1., nan, nan, nan, nan, nan, nan,\n",
              "       nan, nan, nan, nan, nan, nan, nan, nan, nan, nan, nan,  1., nan,\n",
              "       nan, nan, nan, nan, nan, nan, nan, nan, nan, nan, nan, nan, nan,\n",
              "       nan, nan, nan, nan, nan, nan, nan, nan, nan,  1., nan, nan, nan,\n",
              "       nan, nan, nan, nan, nan, nan, nan, nan, nan, nan, nan, nan, nan,\n",
              "       nan, nan, nan, nan, nan, nan, nan, nan, nan,  1.,  1., nan,  1.,\n",
              "       nan, nan, nan, nan, nan, nan, nan, nan, nan, nan, nan, nan, nan,\n",
              "       nan, nan, nan, nan, nan, nan, nan, nan, nan, nan, nan, nan, nan,\n",
              "       nan, nan, nan, nan, nan, nan, nan, nan, nan, nan, nan, nan, nan,\n",
              "       nan, nan, nan, nan, nan, nan, nan, nan, nan, nan, nan, nan, nan,\n",
              "       nan, nan, nan, nan, nan, nan, nan, nan, nan, nan, nan,  2., nan,\n",
              "       nan, nan, nan, nan, nan, nan, nan, nan, nan, nan, nan, nan,  1.,\n",
              "       nan, nan,  1.,  1., nan,  1.,  4.,  4.,  1., nan, nan, nan, nan,\n",
              "       nan, nan, nan, nan, nan, nan, nan, nan, nan, nan, nan, nan, nan,\n",
              "       nan, nan,  1., nan,  1., nan, nan, nan, nan, nan, nan,  1., nan,\n",
              "       nan, nan, nan, nan, nan,  1., nan, nan, nan, nan,  2., nan, nan,\n",
              "       nan, nan, nan, nan, nan, nan,  1., nan, nan, nan, nan, nan, nan,\n",
              "       nan,  1., nan, nan, nan, nan, nan, nan, nan, nan, nan, nan, nan,\n",
              "       nan, nan, nan, nan, nan, nan], dtype=float32)"
            ]
          },
          "metadata": {},
          "execution_count": 65
        }
      ]
    },
    {
      "cell_type": "markdown",
      "source": [
        "# BAM\n",
        "\n",
        "I am not sure what the entries of the BAM file mean. Maybe we could discuss this. "
      ],
      "metadata": {
        "id": "ket4H9xCCmdu"
      }
    },
    {
      "cell_type": "code",
      "source": [
        "samfile = pysam.AlignmentFile(f\"{path}chip-nexus/Sox2/pool_filt.bam\", \"rb\")\n"
      ],
      "metadata": {
        "id": "x3NgCylmCnlX"
      },
      "execution_count": 68,
      "outputs": []
    },
    {
      "cell_type": "markdown",
      "source": [
        ".fetch() function returns all reads overlapping a region sorted by the first aligned base in the reference sequence. Returns also reads that are only partially overlapping with a region. Fetching iterates over the rows of a multiple alignment. "
      ],
      "metadata": {
        "id": "LdWIN1rOJ-UI"
      }
    },
    {
      "cell_type": "code",
      "source": [
        "for read in samfile.fetch('chr2', 165641843, 165641860):\n",
        "    print(read)\n",
        "samfile.close()"
      ],
      "metadata": {
        "colab": {
          "base_uri": "https://localhost:8080/"
        },
        "id": "tE8ivEjfDDzz",
        "outputId": "2f014949-69bb-4464-94b0-4790c3bdb20f"
      },
      "execution_count": 69,
      "outputs": [
        {
          "output_type": "stream",
          "name": "stdout",
          "text": [
            "CACGG_TGAC\t0\t#16\t165641803\t255\t42M\t*\t0\t0\tGTCGGAGAAAAAGAGATGAGGCCAAAGGGCTTTGCCTTTTTT\tarray('B', [33, 37, 37, 33, 37, 33, 37, 37, 37, 37, 37, 37, 37, 37, 37, 37, 37, 37, 37, 37, 37, 37, 37, 37, 37, 37, 37, 37, 37, 33, 37, 37, 37, 37, 37, 37, 37, 37, 37, 37, 37, 37])\t[('XA', 0), ('MD', '42'), ('NM', 0)]\n",
            "CTTAA_CTGA\t16\t#16\t165641811\t255\t42M\t*\t0\t0\tAAAAGAGATGAGGCCAAAGGGCTTTGCCTTTTTTGCCGGGTT\tarray('B', [37, 37, 37, 37, 37, 37, 37, 37, 37, 37, 37, 37, 37, 37, 37, 37, 37, 37, 37, 37, 37, 37, 37, 37, 37, 37, 37, 37, 33, 37, 37, 37, 37, 37, 33, 37, 37, 37, 37, 37, 37, 37])\t[('XA', 0), ('MD', '42'), ('NM', 0)]\n",
            "CAAAT_GACT\t16\t#16\t165641819\t255\t42M\t*\t0\t0\tTGAGGCCAAAGGGCTTTGCCTTTTTTGCCGGGTTTCAGAGTT\tarray('B', [37, 37, 37, 37, 37, 37, 37, 37, 37, 37, 37, 37, 37, 37, 37, 37, 37, 37, 37, 37, 37, 37, 37, 37, 37, 37, 37, 37, 37, 37, 37, 37, 37, 37, 37, 37, 37, 37, 37, 37, 37, 37])\t[('XA', 0), ('MD', '42'), ('NM', 0)]\n",
            "CCCCT_ACTG\t0\t#16\t165641850\t255\t37M\t*\t0\t0\tGTTTCAGAGTTCTGAACCTAGATTCATCCCAAGACCC\tarray('B', [37, 37, 37, 37, 37, 37, 37, 37, 37, 37, 37, 37, 37, 37, 37, 37, 37, 37, 37, 33, 33, 37, 37, 37, 37, 37, 37, 37, 37, 37, 37, 37, 37, 37, 37, 37, 37])\t[('XA', 0), ('MD', '37'), ('NM', 0)]\n"
          ]
        }
      ]
    },
    {
      "cell_type": "markdown",
      "source": [
        "pileup() returns for each base in the reference genome the reads that map to that base. Pileup iterates over the columns of a multiple alignment. A multiple alignment could be interpreted as a stack of reads on top of the reference genome. "
      ],
      "metadata": {
        "id": "KD2GshQxKuAT"
      }
    },
    {
      "cell_type": "code",
      "source": [
        "samfile = pysam.AlignmentFile(f\"{path}chip-nexus/Sox2/pool_filt.bam\", \"rb\")\n",
        "\n",
        "for pileupcolumn in samfile.pileup(\"chr1\", 165641849, 165641850):\n",
        "    print(\"\\ncoverage at base %s = %s\" % (pileupcolumn.pos, pileupcolumn.n))\n",
        "    for pileupread in pileupcolumn.pileups:\n",
        "        if not pileupread.is_del and not pileupread.is_refskip:\n",
        "            # query position is None if is_del or is_refskip is set.\n",
        "            print('\\tbase in read %s = %s' %\n",
        "                  (pileupread.alignment.query_name,\n",
        "                   pileupread.alignment.query_sequence[pileupread.query_position]))\n",
        "\n",
        "samfile.close()"
      ],
      "metadata": {
        "colab": {
          "base_uri": "https://localhost:8080/"
        },
        "id": "N9Rm9GEjDf7_",
        "outputId": "0a8ec502-2787-48e9-f3b3-4a6e3e47a6b9"
      },
      "execution_count": 71,
      "outputs": [
        {
          "output_type": "stream",
          "name": "stdout",
          "text": [
            "\n",
            "coverage at base 165641793 = 1\n",
            "\tbase in read TACGT_CTGA = C\n",
            "\n",
            "coverage at base 165641794 = 1\n",
            "\tbase in read TACGT_CTGA = C\n",
            "\n",
            "coverage at base 165641795 = 1\n",
            "\tbase in read TACGT_CTGA = A\n",
            "\n",
            "coverage at base 165641796 = 2\n",
            "\tbase in read TACGT_CTGA = A\n",
            "\tbase in read GGCAA_CTGA = A\n",
            "\n",
            "coverage at base 165641797 = 2\n",
            "\tbase in read TACGT_CTGA = G\n",
            "\tbase in read GGCAA_CTGA = G\n",
            "\n",
            "coverage at base 165641798 = 2\n",
            "\tbase in read TACGT_CTGA = C\n",
            "\tbase in read GGCAA_CTGA = C\n",
            "\n",
            "coverage at base 165641799 = 3\n",
            "\tbase in read TACGT_CTGA = A\n",
            "\tbase in read GGCAA_CTGA = A\n",
            "\tbase in read TAAAG_ACTG = A\n",
            "\n",
            "coverage at base 165641800 = 3\n",
            "\tbase in read TACGT_CTGA = C\n",
            "\tbase in read GGCAA_CTGA = C\n",
            "\tbase in read TAAAG_ACTG = C\n",
            "\n",
            "coverage at base 165641801 = 3\n",
            "\tbase in read TACGT_CTGA = A\n",
            "\tbase in read GGCAA_CTGA = A\n",
            "\tbase in read TAAAG_ACTG = A\n",
            "\n",
            "coverage at base 165641802 = 3\n",
            "\tbase in read TACGT_CTGA = C\n",
            "\tbase in read GGCAA_CTGA = C\n",
            "\tbase in read TAAAG_ACTG = C\n",
            "\n",
            "coverage at base 165641803 = 3\n",
            "\tbase in read TACGT_CTGA = T\n",
            "\tbase in read GGCAA_CTGA = T\n",
            "\tbase in read TAAAG_ACTG = T\n",
            "\n",
            "coverage at base 165641804 = 3\n",
            "\tbase in read TACGT_CTGA = T\n",
            "\tbase in read GGCAA_CTGA = T\n",
            "\tbase in read TAAAG_ACTG = T\n",
            "\n",
            "coverage at base 165641805 = 3\n",
            "\tbase in read TACGT_CTGA = T\n",
            "\tbase in read GGCAA_CTGA = T\n",
            "\tbase in read TAAAG_ACTG = T\n",
            "\n",
            "coverage at base 165641806 = 3\n",
            "\tbase in read TACGT_CTGA = A\n",
            "\tbase in read GGCAA_CTGA = A\n",
            "\tbase in read TAAAG_ACTG = A\n",
            "\n",
            "coverage at base 165641807 = 3\n",
            "\tbase in read TACGT_CTGA = C\n",
            "\tbase in read GGCAA_CTGA = C\n",
            "\tbase in read TAAAG_ACTG = C\n",
            "\n",
            "coverage at base 165641808 = 3\n",
            "\tbase in read TACGT_CTGA = A\n",
            "\tbase in read GGCAA_CTGA = A\n",
            "\tbase in read TAAAG_ACTG = A\n",
            "\n",
            "coverage at base 165641809 = 3\n",
            "\tbase in read TACGT_CTGA = C\n",
            "\tbase in read GGCAA_CTGA = C\n",
            "\tbase in read TAAAG_ACTG = C\n",
            "\n",
            "coverage at base 165641810 = 3\n",
            "\tbase in read TACGT_CTGA = T\n",
            "\tbase in read GGCAA_CTGA = T\n",
            "\tbase in read TAAAG_ACTG = T\n",
            "\n",
            "coverage at base 165641811 = 3\n",
            "\tbase in read TACGT_CTGA = A\n",
            "\tbase in read GGCAA_CTGA = A\n",
            "\tbase in read TAAAG_ACTG = A\n",
            "\n",
            "coverage at base 165641812 = 3\n",
            "\tbase in read TACGT_CTGA = A\n",
            "\tbase in read GGCAA_CTGA = A\n",
            "\tbase in read TAAAG_ACTG = A\n",
            "\n",
            "coverage at base 165641813 = 3\n",
            "\tbase in read TACGT_CTGA = A\n",
            "\tbase in read GGCAA_CTGA = A\n",
            "\tbase in read TAAAG_ACTG = A\n",
            "\n",
            "coverage at base 165641814 = 3\n",
            "\tbase in read TACGT_CTGA = G\n",
            "\tbase in read GGCAA_CTGA = G\n",
            "\tbase in read TAAAG_ACTG = G\n",
            "\n",
            "coverage at base 165641815 = 3\n",
            "\tbase in read TACGT_CTGA = T\n",
            "\tbase in read GGCAA_CTGA = T\n",
            "\tbase in read TAAAG_ACTG = T\n",
            "\n",
            "coverage at base 165641816 = 3\n",
            "\tbase in read TACGT_CTGA = A\n",
            "\tbase in read GGCAA_CTGA = A\n",
            "\tbase in read TAAAG_ACTG = A\n",
            "\n",
            "coverage at base 165641817 = 3\n",
            "\tbase in read TACGT_CTGA = A\n",
            "\tbase in read GGCAA_CTGA = A\n",
            "\tbase in read TAAAG_ACTG = A\n",
            "\n",
            "coverage at base 165641818 = 3\n",
            "\tbase in read TACGT_CTGA = C\n",
            "\tbase in read GGCAA_CTGA = C\n",
            "\tbase in read TAAAG_ACTG = C\n",
            "\n",
            "coverage at base 165641819 = 4\n",
            "\tbase in read TACGT_CTGA = A\n",
            "\tbase in read GGCAA_CTGA = A\n",
            "\tbase in read TAAAG_ACTG = A\n",
            "\tbase in read TTTTG_CTGA = A\n",
            "\n",
            "coverage at base 165641820 = 5\n",
            "\tbase in read TACGT_CTGA = A\n",
            "\tbase in read GGCAA_CTGA = A\n",
            "\tbase in read TAAAG_ACTG = A\n",
            "\tbase in read TTTTG_CTGA = A\n",
            "\n",
            "coverage at base 165641821 = 5\n",
            "\tbase in read TACGT_CTGA = T\n",
            "\tbase in read GGCAA_CTGA = T\n",
            "\tbase in read TAAAG_ACTG = T\n",
            "\tbase in read TTTTG_CTGA = T\n",
            "\n",
            "coverage at base 165641822 = 6\n",
            "\tbase in read TACGT_CTGA = A\n",
            "\tbase in read GGCAA_CTGA = A\n",
            "\tbase in read TAAAG_ACTG = A\n",
            "\tbase in read TTTTG_CTGA = A\n",
            "\tbase in read CTAGC_ACTG = A\n",
            "\n",
            "coverage at base 165641823 = 6\n",
            "\tbase in read TACGT_CTGA = A\n",
            "\tbase in read GGCAA_CTGA = A\n",
            "\tbase in read TAAAG_ACTG = A\n",
            "\tbase in read TTTTG_CTGA = A\n",
            "\tbase in read CTAGC_ACTG = A\n",
            "\n",
            "coverage at base 165641824 = 7\n",
            "\tbase in read TACGT_CTGA = A\n",
            "\tbase in read GGCAA_CTGA = A\n",
            "\tbase in read TAAAG_ACTG = A\n",
            "\tbase in read TTTTG_CTGA = A\n",
            "\tbase in read CTAGC_ACTG = A\n",
            "\tbase in read TCCCG_ACTG = A\n",
            "\n",
            "coverage at base 165641825 = 7\n",
            "\tbase in read TACGT_CTGA = A\n",
            "\tbase in read GGCAA_CTGA = A\n",
            "\tbase in read TAAAG_ACTG = A\n",
            "\tbase in read TTTTG_CTGA = A\n",
            "\tbase in read CTAGC_ACTG = A\n",
            "\tbase in read TCCCG_ACTG = A\n",
            "\n",
            "coverage at base 165641826 = 7\n",
            "\tbase in read TACGT_CTGA = G\n",
            "\tbase in read GGCAA_CTGA = G\n",
            "\tbase in read TAAAG_ACTG = G\n",
            "\tbase in read TTTTG_CTGA = G\n",
            "\tbase in read CTAGC_ACTG = G\n",
            "\tbase in read TCCCG_ACTG = G\n",
            "\n",
            "coverage at base 165641827 = 7\n",
            "\tbase in read TACGT_CTGA = G\n",
            "\tbase in read GGCAA_CTGA = G\n",
            "\tbase in read TAAAG_ACTG = G\n",
            "\tbase in read TTTTG_CTGA = G\n",
            "\tbase in read CTAGC_ACTG = G\n",
            "\tbase in read TCCCG_ACTG = G\n",
            "\n",
            "coverage at base 165641828 = 7\n",
            "\tbase in read TACGT_CTGA = A\n",
            "\tbase in read GGCAA_CTGA = A\n",
            "\tbase in read TAAAG_ACTG = A\n",
            "\tbase in read TTTTG_CTGA = A\n",
            "\tbase in read CTAGC_ACTG = A\n",
            "\tbase in read TCCCG_ACTG = A\n",
            "\n",
            "coverage at base 165641829 = 7\n",
            "\tbase in read TACGT_CTGA = A\n",
            "\tbase in read GGCAA_CTGA = A\n",
            "\tbase in read TAAAG_ACTG = A\n",
            "\tbase in read TTTTG_CTGA = A\n",
            "\tbase in read CTAGC_ACTG = A\n",
            "\tbase in read TCCCG_ACTG = A\n",
            "\n",
            "coverage at base 165641830 = 7\n",
            "\tbase in read TACGT_CTGA = T\n",
            "\tbase in read GGCAA_CTGA = T\n",
            "\tbase in read TAAAG_ACTG = T\n",
            "\tbase in read TTTTG_CTGA = T\n",
            "\tbase in read CTAGC_ACTG = T\n",
            "\tbase in read TCCCG_ACTG = T\n",
            "\n",
            "coverage at base 165641831 = 7\n",
            "\tbase in read TACGT_CTGA = A\n",
            "\tbase in read GGCAA_CTGA = A\n",
            "\tbase in read TAAAG_ACTG = A\n",
            "\tbase in read TTTTG_CTGA = A\n",
            "\tbase in read CTAGC_ACTG = A\n",
            "\tbase in read TCCCG_ACTG = A\n",
            "\n",
            "coverage at base 165641832 = 7\n",
            "\tbase in read TACGT_CTGA = A\n",
            "\tbase in read GGCAA_CTGA = A\n",
            "\tbase in read TAAAG_ACTG = A\n",
            "\tbase in read TTTTG_CTGA = A\n",
            "\tbase in read CTAGC_ACTG = A\n",
            "\tbase in read TCCCG_ACTG = A\n",
            "\n",
            "coverage at base 165641833 = 7\n",
            "\tbase in read TACGT_CTGA = C\n",
            "\tbase in read GGCAA_CTGA = C\n",
            "\tbase in read TAAAG_ACTG = C\n",
            "\tbase in read TTTTG_CTGA = C\n",
            "\tbase in read CTAGC_ACTG = C\n",
            "\tbase in read TCCCG_ACTG = C\n",
            "\n",
            "coverage at base 165641834 = 7\n",
            "\tbase in read TACGT_CTGA = G\n",
            "\tbase in read GGCAA_CTGA = G\n",
            "\tbase in read TAAAG_ACTG = G\n",
            "\tbase in read TTTTG_CTGA = G\n",
            "\tbase in read CTAGC_ACTG = G\n",
            "\tbase in read TCCCG_ACTG = G\n",
            "\n",
            "coverage at base 165641835 = 8\n",
            "\tbase in read TACGT_CTGA = T\n",
            "\tbase in read GGCAA_CTGA = T\n",
            "\tbase in read TAAAG_ACTG = T\n",
            "\tbase in read TTTTG_CTGA = T\n",
            "\tbase in read CTAGC_ACTG = T\n",
            "\tbase in read TCCCG_ACTG = T\n",
            "\tbase in read GACCT_GACT = T\n",
            "\n",
            "coverage at base 165641836 = 8\n",
            "\tbase in read TACGT_CTGA = G\n",
            "\tbase in read GGCAA_CTGA = G\n",
            "\tbase in read TAAAG_ACTG = G\n",
            "\tbase in read TTTTG_CTGA = G\n",
            "\tbase in read AGGCT_CTGA = G\n",
            "\tbase in read CTAGC_ACTG = G\n",
            "\tbase in read TCCCG_ACTG = G\n",
            "\tbase in read GACCT_GACT = G\n",
            "\n",
            "coverage at base 165641837 = 8\n",
            "\tbase in read TACGT_CTGA = G\n",
            "\tbase in read GGCAA_CTGA = G\n",
            "\tbase in read TAAAG_ACTG = G\n",
            "\tbase in read TTTTG_CTGA = G\n",
            "\tbase in read AGGCT_CTGA = G\n",
            "\tbase in read CTAGC_ACTG = G\n",
            "\tbase in read TCCCG_ACTG = G\n",
            "\tbase in read GACCT_GACT = G\n",
            "\n",
            "coverage at base 165641838 = 8\n",
            "\tbase in read TACGT_CTGA = A\n",
            "\tbase in read GGCAA_CTGA = A\n",
            "\tbase in read TAAAG_ACTG = A\n",
            "\tbase in read TTTTG_CTGA = A\n",
            "\tbase in read AGGCT_CTGA = A\n",
            "\tbase in read CTAGC_ACTG = A\n",
            "\tbase in read TCCCG_ACTG = A\n",
            "\tbase in read GACCT_GACT = A\n",
            "\n",
            "coverage at base 165641839 = 8\n",
            "\tbase in read TACGT_CTGA = A\n",
            "\tbase in read GGCAA_CTGA = A\n",
            "\tbase in read TAAAG_ACTG = A\n",
            "\tbase in read TTTTG_CTGA = A\n",
            "\tbase in read AGGCT_CTGA = A\n",
            "\tbase in read CTAGC_ACTG = A\n",
            "\tbase in read TCCCG_ACTG = A\n",
            "\tbase in read GACCT_GACT = A\n",
            "\n",
            "coverage at base 165641840 = 8\n",
            "\tbase in read TACGT_CTGA = G\n",
            "\tbase in read GGCAA_CTGA = G\n",
            "\tbase in read TAAAG_ACTG = G\n",
            "\tbase in read TTTTG_CTGA = G\n",
            "\tbase in read AGGCT_CTGA = G\n",
            "\tbase in read CTAGC_ACTG = G\n",
            "\tbase in read TCCCG_ACTG = G\n",
            "\tbase in read GACCT_GACT = G\n",
            "\n",
            "coverage at base 165641841 = 8\n",
            "\tbase in read TACGT_CTGA = C\n",
            "\tbase in read GGCAA_CTGA = C\n",
            "\tbase in read TAAAG_ACTG = C\n",
            "\tbase in read TTTTG_CTGA = C\n",
            "\tbase in read AGGCT_CTGA = C\n",
            "\tbase in read CTAGC_ACTG = C\n",
            "\tbase in read TCCCG_ACTG = C\n",
            "\tbase in read GACCT_GACT = C\n",
            "\n",
            "coverage at base 165641842 = 8\n",
            "\tbase in read TACGT_CTGA = A\n",
            "\tbase in read GGCAA_CTGA = A\n",
            "\tbase in read TAAAG_ACTG = A\n",
            "\tbase in read TTTTG_CTGA = A\n",
            "\tbase in read AGGCT_CTGA = A\n",
            "\tbase in read CTAGC_ACTG = A\n",
            "\tbase in read TCCCG_ACTG = A\n",
            "\tbase in read GACCT_GACT = A\n",
            "\n",
            "coverage at base 165641843 = 8\n",
            "\tbase in read TACGT_CTGA = T\n",
            "\tbase in read GGCAA_CTGA = T\n",
            "\tbase in read TAAAG_ACTG = T\n",
            "\tbase in read TTTTG_CTGA = T\n",
            "\tbase in read AGGCT_CTGA = T\n",
            "\tbase in read CTAGC_ACTG = T\n",
            "\tbase in read TCCCG_ACTG = T\n",
            "\tbase in read GACCT_GACT = T\n",
            "\n",
            "coverage at base 165641844 = 8\n",
            "\tbase in read TACGT_CTGA = A\n",
            "\tbase in read GGCAA_CTGA = A\n",
            "\tbase in read TAAAG_ACTG = A\n",
            "\tbase in read TTTTG_CTGA = A\n",
            "\tbase in read AGGCT_CTGA = A\n",
            "\tbase in read CTAGC_ACTG = A\n",
            "\tbase in read TCCCG_ACTG = A\n",
            "\tbase in read GACCT_GACT = A\n",
            "\n",
            "coverage at base 165641845 = 8\n",
            "\tbase in read TACGT_CTGA = A\n",
            "\tbase in read GGCAA_CTGA = A\n",
            "\tbase in read TAAAG_ACTG = A\n",
            "\tbase in read TTTTG_CTGA = A\n",
            "\tbase in read AGGCT_CTGA = A\n",
            "\tbase in read CTAGC_ACTG = A\n",
            "\tbase in read TCCCG_ACTG = A\n",
            "\tbase in read GACCT_GACT = A\n",
            "\n",
            "coverage at base 165641846 = 8\n",
            "\tbase in read TACGT_CTGA = A\n",
            "\tbase in read GGCAA_CTGA = A\n",
            "\tbase in read TAAAG_ACTG = A\n",
            "\tbase in read TTTTG_CTGA = A\n",
            "\tbase in read AGGCT_CTGA = A\n",
            "\tbase in read CTAGC_ACTG = A\n",
            "\tbase in read TCCCG_ACTG = A\n",
            "\tbase in read GACCT_GACT = A\n",
            "\n",
            "coverage at base 165641847 = 8\n",
            "\tbase in read TACGT_CTGA = A\n",
            "\tbase in read GGCAA_CTGA = A\n",
            "\tbase in read TAAAG_ACTG = A\n",
            "\tbase in read TTTTG_CTGA = A\n",
            "\tbase in read AGGCT_CTGA = A\n",
            "\tbase in read CTAGC_ACTG = A\n",
            "\tbase in read TCCCG_ACTG = A\n",
            "\tbase in read GACCT_GACT = A\n",
            "\n",
            "coverage at base 165641848 = 8\n",
            "\tbase in read TACGT_CTGA = G\n",
            "\tbase in read GGCAA_CTGA = G\n",
            "\tbase in read TAAAG_ACTG = G\n",
            "\tbase in read TTTTG_CTGA = G\n",
            "\tbase in read AGGCT_CTGA = G\n",
            "\tbase in read CTAGC_ACTG = G\n",
            "\tbase in read TCCCG_ACTG = G\n",
            "\tbase in read GACCT_GACT = G\n",
            "\n",
            "coverage at base 165641849 = 10\n",
            "\tbase in read TACGT_CTGA = T\n",
            "\tbase in read GGCAA_CTGA = T\n",
            "\tbase in read TAAAG_ACTG = T\n",
            "\tbase in read TTTTG_CTGA = T\n",
            "\tbase in read AGGCT_CTGA = T\n",
            "\tbase in read CTAGC_ACTG = T\n",
            "\tbase in read TCCCG_ACTG = T\n",
            "\tbase in read GACCT_GACT = T\n",
            "\tbase in read GTCAA_TGAC = T\n",
            "\tbase in read TAATT_ACTG = T\n",
            "\n",
            "coverage at base 165641850 = 10\n",
            "\tbase in read TACGT_CTGA = T\n",
            "\tbase in read GGCAA_CTGA = T\n",
            "\tbase in read TAAAG_ACTG = T\n",
            "\tbase in read TTTTG_CTGA = T\n",
            "\tbase in read AGGCT_CTGA = T\n",
            "\tbase in read CTAGC_ACTG = T\n",
            "\tbase in read TCCCG_ACTG = T\n",
            "\tbase in read GACCT_GACT = T\n",
            "\tbase in read GTCAA_TGAC = T\n",
            "\tbase in read TAATT_ACTG = T\n",
            "\n",
            "coverage at base 165641851 = 10\n",
            "\tbase in read TACGT_CTGA = T\n",
            "\tbase in read GGCAA_CTGA = T\n",
            "\tbase in read TAAAG_ACTG = T\n",
            "\tbase in read TTTTG_CTGA = T\n",
            "\tbase in read AGGCT_CTGA = T\n",
            "\tbase in read CTAGC_ACTG = T\n",
            "\tbase in read TCCCG_ACTG = T\n",
            "\tbase in read GACCT_GACT = T\n",
            "\tbase in read GTCAA_TGAC = T\n",
            "\tbase in read TAATT_ACTG = T\n",
            "\n",
            "coverage at base 165641852 = 10\n",
            "\tbase in read TACGT_CTGA = T\n",
            "\tbase in read GGCAA_CTGA = T\n",
            "\tbase in read TAAAG_ACTG = T\n",
            "\tbase in read TTTTG_CTGA = T\n",
            "\tbase in read AGGCT_CTGA = T\n",
            "\tbase in read CTAGC_ACTG = T\n",
            "\tbase in read TCCCG_ACTG = T\n",
            "\tbase in read GACCT_GACT = T\n",
            "\tbase in read GTCAA_TGAC = T\n",
            "\tbase in read TAATT_ACTG = T\n",
            "\n",
            "coverage at base 165641853 = 10\n",
            "\tbase in read TACGT_CTGA = C\n",
            "\tbase in read GGCAA_CTGA = C\n",
            "\tbase in read TAAAG_ACTG = C\n",
            "\tbase in read TTTTG_CTGA = C\n",
            "\tbase in read AGGCT_CTGA = C\n",
            "\tbase in read CTAGC_ACTG = C\n",
            "\tbase in read TCCCG_ACTG = C\n",
            "\tbase in read GACCT_GACT = C\n",
            "\tbase in read GTCAA_TGAC = C\n",
            "\tbase in read TAATT_ACTG = C\n",
            "\n",
            "coverage at base 165641854 = 10\n",
            "\tbase in read TACGT_CTGA = C\n",
            "\tbase in read GGCAA_CTGA = C\n",
            "\tbase in read TAAAG_ACTG = C\n",
            "\tbase in read TTTTG_CTGA = C\n",
            "\tbase in read AGGCT_CTGA = C\n",
            "\tbase in read CTAGC_ACTG = C\n",
            "\tbase in read TCCCG_ACTG = C\n",
            "\tbase in read GACCT_GACT = C\n",
            "\tbase in read GTCAA_TGAC = C\n",
            "\tbase in read TAATT_ACTG = C\n",
            "\n",
            "coverage at base 165641855 = 10\n",
            "\tbase in read TACGT_CTGA = A\n",
            "\tbase in read GGCAA_CTGA = A\n",
            "\tbase in read TAAAG_ACTG = A\n",
            "\tbase in read TTTTG_CTGA = A\n",
            "\tbase in read AGGCT_CTGA = A\n",
            "\tbase in read CTAGC_ACTG = A\n",
            "\tbase in read TCCCG_ACTG = A\n",
            "\tbase in read GACCT_GACT = A\n",
            "\tbase in read GTCAA_TGAC = A\n",
            "\tbase in read TAATT_ACTG = A\n",
            "\n",
            "coverage at base 165641856 = 10\n",
            "\tbase in read TACGT_CTGA = G\n",
            "\tbase in read GGCAA_CTGA = G\n",
            "\tbase in read TAAAG_ACTG = G\n",
            "\tbase in read TTTTG_CTGA = G\n",
            "\tbase in read AGGCT_CTGA = G\n",
            "\tbase in read CTAGC_ACTG = G\n",
            "\tbase in read TCCCG_ACTG = G\n",
            "\tbase in read GACCT_GACT = G\n",
            "\tbase in read GTCAA_TGAC = G\n",
            "\tbase in read TAATT_ACTG = G\n",
            "\n",
            "coverage at base 165641857 = 10\n",
            "\tbase in read TACGT_CTGA = T\n",
            "\tbase in read GGCAA_CTGA = T\n",
            "\tbase in read TAAAG_ACTG = T\n",
            "\tbase in read TTTTG_CTGA = T\n",
            "\tbase in read AGGCT_CTGA = T\n",
            "\tbase in read CTAGC_ACTG = T\n",
            "\tbase in read TCCCG_ACTG = T\n",
            "\tbase in read GACCT_GACT = T\n",
            "\tbase in read GTCAA_TGAC = T\n",
            "\tbase in read TAATT_ACTG = T\n",
            "\n",
            "coverage at base 165641858 = 10\n",
            "\tbase in read TACGT_CTGA = C\n",
            "\tbase in read GGCAA_CTGA = C\n",
            "\tbase in read TAAAG_ACTG = C\n",
            "\tbase in read TTTTG_CTGA = C\n",
            "\tbase in read AGGCT_CTGA = C\n",
            "\tbase in read CTAGC_ACTG = C\n",
            "\tbase in read TCCCG_ACTG = C\n",
            "\tbase in read GACCT_GACT = C\n",
            "\tbase in read GTCAA_TGAC = C\n",
            "\tbase in read TAATT_ACTG = C\n",
            "\n",
            "coverage at base 165641859 = 10\n",
            "\tbase in read TACGT_CTGA = A\n",
            "\tbase in read GGCAA_CTGA = A\n",
            "\tbase in read TAAAG_ACTG = A\n",
            "\tbase in read TTTTG_CTGA = A\n",
            "\tbase in read AGGCT_CTGA = A\n",
            "\tbase in read CTAGC_ACTG = A\n",
            "\tbase in read TCCCG_ACTG = A\n",
            "\tbase in read GACCT_GACT = A\n",
            "\tbase in read GTCAA_TGAC = A\n",
            "\tbase in read TAATT_ACTG = A\n",
            "\n",
            "coverage at base 165641860 = 9\n",
            "\tbase in read GGCAA_CTGA = C\n",
            "\tbase in read TAAAG_ACTG = C\n",
            "\tbase in read TTTTG_CTGA = C\n",
            "\tbase in read AGGCT_CTGA = C\n",
            "\tbase in read CTAGC_ACTG = C\n",
            "\tbase in read TCCCG_ACTG = C\n",
            "\tbase in read GACCT_GACT = C\n",
            "\tbase in read GTCAA_TGAC = C\n",
            "\tbase in read TAATT_ACTG = C\n",
            "\n",
            "coverage at base 165641861 = 9\n",
            "\tbase in read GGCAA_CTGA = G\n",
            "\tbase in read TAAAG_ACTG = G\n",
            "\tbase in read TTTTG_CTGA = G\n",
            "\tbase in read AGGCT_CTGA = G\n",
            "\tbase in read CTAGC_ACTG = G\n",
            "\tbase in read TCCCG_ACTG = G\n",
            "\tbase in read GACCT_GACT = G\n",
            "\tbase in read GTCAA_TGAC = G\n",
            "\tbase in read TAATT_ACTG = G\n",
            "\n",
            "coverage at base 165641862 = 8\n",
            "\tbase in read GGCAA_CTGA = T\n",
            "\tbase in read TAAAG_ACTG = T\n",
            "\tbase in read TTTTG_CTGA = T\n",
            "\tbase in read CTAGC_ACTG = T\n",
            "\tbase in read TCCCG_ACTG = T\n",
            "\tbase in read GACCT_GACT = T\n",
            "\tbase in read GTCAA_TGAC = T\n",
            "\tbase in read TAATT_ACTG = T\n",
            "\n",
            "coverage at base 165641863 = 7\n",
            "\tbase in read TAAAG_ACTG = C\n",
            "\tbase in read TTTTG_CTGA = C\n",
            "\tbase in read CTAGC_ACTG = C\n",
            "\tbase in read TCCCG_ACTG = C\n",
            "\tbase in read GACCT_GACT = C\n",
            "\tbase in read GTCAA_TGAC = C\n",
            "\tbase in read TAATT_ACTG = C\n",
            "\n",
            "coverage at base 165641864 = 6\n",
            "\tbase in read TAAAG_ACTG = C\n",
            "\tbase in read TTTTG_CTGA = C\n",
            "\tbase in read TCCCG_ACTG = C\n",
            "\tbase in read GACCT_GACT = C\n",
            "\tbase in read GTCAA_TGAC = C\n",
            "\tbase in read TAATT_ACTG = C\n",
            "\n",
            "coverage at base 165641865 = 6\n",
            "\tbase in read TAAAG_ACTG = T\n",
            "\tbase in read TTTTG_CTGA = T\n",
            "\tbase in read TCCCG_ACTG = T\n",
            "\tbase in read GACCT_GACT = T\n",
            "\tbase in read GTCAA_TGAC = T\n",
            "\tbase in read TAATT_ACTG = T\n",
            "\n",
            "coverage at base 165641866 = 4\n",
            "\tbase in read TTTTG_CTGA = T\n",
            "\tbase in read GACCT_GACT = T\n",
            "\tbase in read GTCAA_TGAC = T\n",
            "\tbase in read TAATT_ACTG = T\n",
            "\n",
            "coverage at base 165641867 = 4\n",
            "\tbase in read TTTTG_CTGA = T\n",
            "\tbase in read GACCT_GACT = T\n",
            "\tbase in read GTCAA_TGAC = T\n",
            "\tbase in read TAATT_ACTG = T\n",
            "\n",
            "coverage at base 165641868 = 4\n",
            "\tbase in read TTTTG_CTGA = G\n",
            "\tbase in read GACCT_GACT = G\n",
            "\tbase in read GTCAA_TGAC = G\n",
            "\tbase in read TAATT_ACTG = G\n",
            "\n",
            "coverage at base 165641869 = 4\n",
            "\tbase in read TTTTG_CTGA = C\n",
            "\tbase in read GACCT_GACT = C\n",
            "\tbase in read GTCAA_TGAC = C\n",
            "\tbase in read TAATT_ACTG = C\n",
            "\n",
            "coverage at base 165641870 = 4\n",
            "\tbase in read TTTTG_CTGA = C\n",
            "\tbase in read GACCT_GACT = C\n",
            "\tbase in read GTCAA_TGAC = C\n",
            "\tbase in read TAATT_ACTG = C\n",
            "\n",
            "coverage at base 165641871 = 4\n",
            "\tbase in read TTTTG_CTGA = T\n",
            "\tbase in read GACCT_GACT = T\n",
            "\tbase in read GTCAA_TGAC = T\n",
            "\tbase in read TAATT_ACTG = T\n",
            "\n",
            "coverage at base 165641872 = 4\n",
            "\tbase in read TTTTG_CTGA = C\n",
            "\tbase in read GACCT_GACT = C\n",
            "\tbase in read GTCAA_TGAC = C\n",
            "\tbase in read TAATT_ACTG = C\n",
            "\n",
            "coverage at base 165641873 = 4\n",
            "\tbase in read TTTTG_CTGA = G\n",
            "\tbase in read GACCT_GACT = G\n",
            "\tbase in read GTCAA_TGAC = G\n",
            "\tbase in read TAATT_ACTG = G\n",
            "\n",
            "coverage at base 165641874 = 4\n",
            "\tbase in read TTTTG_CTGA = C\n",
            "\tbase in read GACCT_GACT = C\n",
            "\tbase in read GTCAA_TGAC = C\n",
            "\tbase in read TAATT_ACTG = C\n",
            "\n",
            "coverage at base 165641875 = 4\n",
            "\tbase in read TTTTG_CTGA = T\n",
            "\tbase in read GACCT_GACT = T\n",
            "\tbase in read GTCAA_TGAC = T\n",
            "\tbase in read TAATT_ACTG = T\n",
            "\n",
            "coverage at base 165641876 = 3\n",
            "\tbase in read TTTTG_CTGA = T\n",
            "\tbase in read GACCT_GACT = T\n",
            "\tbase in read GTCAA_TGAC = T\n",
            "\n",
            "coverage at base 165641877 = 3\n",
            "\tbase in read TTTTG_CTGA = A\n",
            "\tbase in read GACCT_GACT = A\n",
            "\tbase in read GTCAA_TGAC = A\n",
            "\n",
            "coverage at base 165641878 = 3\n",
            "\tbase in read TTTTG_CTGA = A\n",
            "\tbase in read GACCT_GACT = A\n",
            "\tbase in read GTCAA_TGAC = A\n",
            "\n",
            "coverage at base 165641879 = 3\n",
            "\tbase in read TTTTG_CTGA = T\n",
            "\tbase in read GACCT_GACT = T\n",
            "\tbase in read GTCAA_TGAC = T\n",
            "\n",
            "coverage at base 165641880 = 3\n",
            "\tbase in read TTTTG_CTGA = C\n",
            "\tbase in read GACCT_GACT = C\n",
            "\tbase in read GTCAA_TGAC = C\n",
            "\n",
            "coverage at base 165641881 = 3\n",
            "\tbase in read TTTTG_CTGA = C\n",
            "\tbase in read GACCT_GACT = C\n",
            "\tbase in read GTCAA_TGAC = C\n",
            "\n",
            "coverage at base 165641882 = 2\n",
            "\tbase in read TTTTG_CTGA = G\n",
            "\tbase in read GACCT_GACT = G\n",
            "\n",
            "coverage at base 165641883 = 2\n",
            "\tbase in read TTTTG_CTGA = A\n",
            "\tbase in read GACCT_GACT = A\n",
            "\n",
            "coverage at base 165641884 = 2\n",
            "\tbase in read TTTTG_CTGA = T\n",
            "\tbase in read GACCT_GACT = T\n",
            "\n",
            "coverage at base 165641885 = 2\n",
            "\tbase in read TTTTG_CTGA = C\n",
            "\tbase in read GACCT_GACT = C\n",
            "\n",
            "coverage at base 165641886 = 1\n",
            "\tbase in read GACCT_GACT = G\n",
            "\n",
            "coverage at base 165641887 = 1\n",
            "\tbase in read GACCT_GACT = A\n",
            "\n",
            "coverage at base 165641888 = 1\n",
            "\tbase in read GACCT_GACT = A\n",
            "\n",
            "coverage at base 165641889 = 1\n",
            "\tbase in read GACCT_GACT = G\n",
            "\n",
            "coverage at base 165641890 = 1\n",
            "\tbase in read GACCT_GACT = C\n",
            "\n",
            "coverage at base 165641891 = 1\n",
            "\tbase in read GACCT_GACT = G\n",
            "\n",
            "coverage at base 165641892 = 1\n",
            "\tbase in read GACCT_GACT = C\n",
            "\n",
            "coverage at base 165641893 = 1\n",
            "\tbase in read GACCT_GACT = G\n",
            "\n",
            "coverage at base 165641894 = 1\n",
            "\tbase in read GACCT_GACT = A\n",
            "\n",
            "coverage at base 165641895 = 1\n",
            "\tbase in read GACCT_GACT = G\n",
            "\n",
            "coverage at base 165641896 = 1\n",
            "\tbase in read GACCT_GACT = T\n",
            "\n",
            "coverage at base 165641897 = 1\n",
            "\tbase in read GACCT_GACT = G\n",
            "\n",
            "coverage at base 165641898 = 1\n",
            "\tbase in read GACCT_GACT = T\n",
            "\n",
            "coverage at base 165641899 = 1\n",
            "\tbase in read GACCT_GACT = A\n",
            "\n",
            "coverage at base 165641900 = 1\n",
            "\tbase in read GACCT_GACT = G\n",
            "\n",
            "coverage at base 165641901 = 1\n",
            "\tbase in read GACCT_GACT = G\n"
          ]
        }
      ]
    },
    {
      "cell_type": "markdown",
      "source": [
        "# Predicted bigWig files\n",
        "\n",
        "For the predictions I was expecting to see the same sequences as the input sequences. Furthermore, the probabilities for one sequence should add up to one. Maybe this is simply not normalized yet?"
      ],
      "metadata": {
        "id": "Ze0DG-HxAg29"
      }
    },
    {
      "cell_type": "code",
      "source": [
        "#!wget -O /content/gdrive/MyDrive/Sox2.preds.pos.bw https://zenodo.org/record/4294904/files/Sox2.preds.pos.bw?download=1"
      ],
      "metadata": {
        "id": "vcmVBASPMgYU"
      },
      "execution_count": null,
      "outputs": []
    },
    {
      "cell_type": "code",
      "source": [
        "bw_pred = pyBigWig.open(\"/content/gdrive/MyDrive/colab_notebooks/Sox2.preds.pos.bw\")"
      ],
      "metadata": {
        "id": "85uMJy0EM4jG"
      },
      "execution_count": 72,
      "outputs": []
    },
    {
      "cell_type": "code",
      "source": [
        "bw_pred.chroms()"
      ],
      "metadata": {
        "colab": {
          "base_uri": "https://localhost:8080/"
        },
        "id": "ApN7I_BpNfsm",
        "outputId": "e73b5049-2d7b-4a72-9dca-9909c9aed007"
      },
      "execution_count": 73,
      "outputs": [
        {
          "output_type": "execute_result",
          "data": {
            "text/plain": [
              "{'chr1': 195471971,\n",
              " 'chr10': 130694993,\n",
              " 'chr11': 122082543,\n",
              " 'chr12': 120129022,\n",
              " 'chr13': 120421639,\n",
              " 'chr14': 124902244,\n",
              " 'chr15': 104043685,\n",
              " 'chr16': 98207768,\n",
              " 'chr17': 94987271,\n",
              " 'chr18': 90702639,\n",
              " 'chr19': 61431566,\n",
              " 'chr1_GL456210_random': 169725,\n",
              " 'chr1_GL456211_random': 241735,\n",
              " 'chr1_GL456212_random': 153618,\n",
              " 'chr1_GL456213_random': 39340,\n",
              " 'chr1_GL456221_random': 206961,\n",
              " 'chr2': 182113224,\n",
              " 'chr3': 160039680,\n",
              " 'chr4': 156508116,\n",
              " 'chr4_GL456216_random': 66673,\n",
              " 'chr4_GL456350_random': 227966,\n",
              " 'chr4_JH584292_random': 14945,\n",
              " 'chr4_JH584293_random': 207968,\n",
              " 'chr4_JH584294_random': 191905,\n",
              " 'chr4_JH584295_random': 1976,\n",
              " 'chr5': 151834684,\n",
              " 'chr5_GL456354_random': 195993,\n",
              " 'chr5_JH584296_random': 199368,\n",
              " 'chr5_JH584297_random': 205776,\n",
              " 'chr5_JH584298_random': 184189,\n",
              " 'chr5_JH584299_random': 953012,\n",
              " 'chr6': 149736546,\n",
              " 'chr7': 145441459,\n",
              " 'chr7_GL456219_random': 175968,\n",
              " 'chr8': 129401213,\n",
              " 'chr9': 124595110,\n",
              " 'chrM': 16299,\n",
              " 'chrUn_GL456239': 40056,\n",
              " 'chrUn_GL456359': 22974,\n",
              " 'chrUn_GL456360': 31704,\n",
              " 'chrUn_GL456366': 47073,\n",
              " 'chrUn_GL456367': 42057,\n",
              " 'chrUn_GL456368': 20208,\n",
              " 'chrUn_GL456370': 26764,\n",
              " 'chrUn_GL456372': 28664,\n",
              " 'chrUn_GL456378': 31602,\n",
              " 'chrUn_GL456379': 72385,\n",
              " 'chrUn_GL456381': 25871,\n",
              " 'chrUn_GL456382': 23158,\n",
              " 'chrUn_GL456383': 38659,\n",
              " 'chrUn_GL456385': 35240,\n",
              " 'chrUn_GL456387': 24685,\n",
              " 'chrUn_GL456389': 28772,\n",
              " 'chrUn_GL456390': 24668,\n",
              " 'chrUn_GL456392': 23629,\n",
              " 'chrUn_GL456393': 55711,\n",
              " 'chrUn_GL456394': 24323,\n",
              " 'chrUn_GL456396': 21240,\n",
              " 'chrUn_JH584304': 114452,\n",
              " 'chrX': 171031299,\n",
              " 'chrX_GL456233_random': 336933,\n",
              " 'chrY': 91744698,\n",
              " 'chrY_JH584300_random': 182347,\n",
              " 'chrY_JH584301_random': 259875,\n",
              " 'chrY_JH584302_random': 155838,\n",
              " 'chrY_JH584303_random': 158099}"
            ]
          },
          "metadata": {},
          "execution_count": 73
        }
      ]
    },
    {
      "cell_type": "code",
      "source": [
        "bw.values(\"chr1\", 171033437, 171033437+1000, numpy=True)[0:100]"
      ],
      "metadata": {
        "colab": {
          "base_uri": "https://localhost:8080/"
        },
        "id": "XDPpU5azNpyd",
        "outputId": "4f30797f-5b39-4ec6-fdd8-30379a887644"
      },
      "execution_count": 75,
      "outputs": [
        {
          "output_type": "execute_result",
          "data": {
            "text/plain": [
              "array([nan, nan, nan,  1., nan, nan, nan, nan, nan, nan, nan, nan, nan,\n",
              "       nan, nan, nan,  1.,  1., nan, nan, nan, nan, nan, nan, nan, nan,\n",
              "       nan, nan, nan, nan,  1., nan, nan, nan, nan, nan, nan, nan, nan,\n",
              "       nan,  1., nan,  1., nan, nan, nan, nan, nan,  1., nan, nan, nan,\n",
              "       nan, nan, nan, nan, nan, nan, nan, nan, nan, nan, nan,  1., nan,\n",
              "       nan, nan, nan, nan, nan, nan, nan, nan, nan, nan, nan,  1., nan,\n",
              "       nan, nan, nan, nan, nan, nan, nan, nan, nan, nan, nan, nan, nan,\n",
              "       nan, nan, nan, nan, nan, nan, nan, nan, nan], dtype=float32)"
            ]
          },
          "metadata": {},
          "execution_count": 75
        }
      ]
    },
    {
      "cell_type": "markdown",
      "source": [
        "I was expecting that if we get the predictions for a particular input region, than it should sum to one."
      ],
      "metadata": {
        "id": "Qm9Ey7_BOt6d"
      }
    },
    {
      "cell_type": "code",
      "source": [
        "x = bw_pred.values(\"chr1\", 171033437, 171033437+1000, numpy=True)\n",
        "x[0:100]"
      ],
      "metadata": {
        "colab": {
          "base_uri": "https://localhost:8080/"
        },
        "id": "49ePKC2cNsp0",
        "outputId": "cc604ec2-0f1b-422d-b5ab-654b2c879f20"
      },
      "execution_count": 76,
      "outputs": [
        {
          "output_type": "execute_result",
          "data": {
            "text/plain": [
              "array([0.00885102, 0.00794259, 0.00906108, 0.0110996 , 0.00916057,\n",
              "       0.01153745, 0.01080983, 0.01163372, 0.00989056, 0.02006298,\n",
              "       0.01544945, 0.01021632, 0.0051413 , 0.00597938, 0.01580837,\n",
              "       0.01984632, 0.02036148, 0.02202081, 0.02256774, 0.02023123,\n",
              "       0.01159393, 0.01061111, 0.00784227, 0.00736755, 0.01093887,\n",
              "       0.00820192, 0.00379759, 0.00604574, 0.00508476, 0.01156421,\n",
              "       0.00753225, 0.00444663, 0.00383838, 0.01109663, 0.00727801,\n",
              "       0.00650276, 0.01276037, 0.0241713 , 0.01811267, 0.00706555,\n",
              "       0.0049176 , 0.00429775, 0.00971882, 0.0131268 , 0.01609014,\n",
              "       0.02397524, 0.02202256, 0.0322405 , 0.01878972, 0.01061762,\n",
              "       0.00517919, 0.01449243, 0.0207858 , 0.01278876, 0.00764939,\n",
              "       0.01756865, 0.01617804, 0.02279634, 0.01864478, 0.01754705,\n",
              "       0.01356106, 0.0137598 , 0.01376605, 0.01723405, 0.01901769,\n",
              "       0.01714451, 0.01399285, 0.00783024, 0.0109409 , 0.01604538,\n",
              "       0.00743694, 0.00825588, 0.00416892, 0.00982812, 0.01565504,\n",
              "       0.02537572, 0.02038942, 0.01490219, 0.00629941, 0.00287615,\n",
              "       0.00528483, 0.00948018, 0.00254568, 0.00281884, 0.00391976,\n",
              "       0.00637633, 0.00804034, 0.01120471, 0.01286083, 0.01345787,\n",
              "       0.01555965, 0.01999496, 0.01554038, 0.00866636, 0.0104552 ,\n",
              "       0.0041446 , 0.00877313, 0.01286238, 0.00943551, 0.00426042],\n",
              "      dtype=float32)"
            ]
          },
          "metadata": {},
          "execution_count": 76
        }
      ]
    },
    {
      "cell_type": "code",
      "source": [
        "x.sum()"
      ],
      "metadata": {
        "colab": {
          "base_uri": "https://localhost:8080/"
        },
        "id": "fNquAXPEN8V7",
        "outputId": "970e2b35-d705-48ef-acb2-b5a84d5a7db8"
      },
      "execution_count": 77,
      "outputs": [
        {
          "output_type": "execute_result",
          "data": {
            "text/plain": [
              "18.888515"
            ]
          },
          "metadata": {},
          "execution_count": 77
        }
      ]
    },
    {
      "cell_type": "code",
      "source": [
        "b = bw_pred.values(\"chr1\", 165641843, 165641843+1000, numpy=True)\n",
        "b.sum()"
      ],
      "metadata": {
        "colab": {
          "base_uri": "https://localhost:8080/"
        },
        "id": "NgSToOzOOSFK",
        "outputId": "4809bcff-c810-467a-a3fe-eb799406f029"
      },
      "execution_count": 78,
      "outputs": [
        {
          "output_type": "execute_result",
          "data": {
            "text/plain": [
              "18.233421"
            ]
          },
          "metadata": {},
          "execution_count": 78
        }
      ]
    },
    {
      "cell_type": "code",
      "source": [
        "c = bw_pred.values(\"chr1\", 176753568, 176753568+1000, numpy=True)\n",
        "c.sum()"
      ],
      "metadata": {
        "colab": {
          "base_uri": "https://localhost:8080/"
        },
        "id": "ZqemWveROm4x",
        "outputId": "aa9712b3-cd57-403d-fbfd-628f77793bec"
      },
      "execution_count": 79,
      "outputs": [
        {
          "output_type": "execute_result",
          "data": {
            "text/plain": [
              "11.538993"
            ]
          },
          "metadata": {},
          "execution_count": 79
        }
      ]
    },
    {
      "cell_type": "code",
      "source": [
        "# The predictions are nan just as for the original bigWig files...\n",
        "bw_pred.values(\"chr1\", 0, 100, numpy=True)"
      ],
      "metadata": {
        "colab": {
          "base_uri": "https://localhost:8080/"
        },
        "id": "ueFGMe2pAwMf",
        "outputId": "d48e152e-1237-4e8d-e0af-170cad802bb8"
      },
      "execution_count": 81,
      "outputs": [
        {
          "output_type": "execute_result",
          "data": {
            "text/plain": [
              "array([nan, nan, nan, nan, nan, nan, nan, nan, nan, nan, nan, nan, nan,\n",
              "       nan, nan, nan, nan, nan, nan, nan, nan, nan, nan, nan, nan, nan,\n",
              "       nan, nan, nan, nan, nan, nan, nan, nan, nan, nan, nan, nan, nan,\n",
              "       nan, nan, nan, nan, nan, nan, nan, nan, nan, nan, nan, nan, nan,\n",
              "       nan, nan, nan, nan, nan, nan, nan, nan, nan, nan, nan, nan, nan,\n",
              "       nan, nan, nan, nan, nan, nan, nan, nan, nan, nan, nan, nan, nan,\n",
              "       nan, nan, nan, nan, nan, nan, nan, nan, nan, nan, nan, nan, nan,\n",
              "       nan, nan, nan, nan, nan, nan, nan, nan, nan], dtype=float32)"
            ]
          },
          "metadata": {},
          "execution_count": 81
        }
      ]
    },
    {
      "cell_type": "markdown",
      "source": [
        "# Merged set\n",
        "\n",
        "\n",
        "Here there is one file for Nanog, Oct4 and Sox2, but not Klf4 and one file called \"unique\". I am not sure whether these are the sequences that were used for training or whether the regions in the file \"regions.bed\" from above were used for training. "
      ],
      "metadata": {
        "id": "6u3nUl8mPo2I"
      }
    },
    {
      "cell_type": "code",
      "source": [
        "!gzip -dv /content/gdrive/MyDrive/colab_notebooks/data/merged_set/Sox2.training.bed.gz"
      ],
      "metadata": {
        "colab": {
          "base_uri": "https://localhost:8080/"
        },
        "id": "OoMQtHU1Pp-U",
        "outputId": "9f03c2f3-a1a1-4f13-ea4a-6cf06e4c0452"
      },
      "execution_count": 104,
      "outputs": [
        {
          "output_type": "stream",
          "name": "stdout",
          "text": [
            "/content/gdrive/MyDrive/colab_notebooks/data/merged_set/Sox2.training.bed.gz:\t 75.8% -- replaced with /content/gdrive/MyDrive/colab_notebooks/data/merged_set/Sox2.training.bed\n"
          ]
        }
      ]
    },
    {
      "cell_type": "code",
      "source": [
        "sox2_train = pr.read_bed(f\"{path}merged_set/Sox2.training.bed\")"
      ],
      "metadata": {
        "id": "okMk8gRLP12w"
      },
      "execution_count": 105,
      "outputs": []
    },
    {
      "cell_type": "code",
      "source": [
        "\n",
        "sox2_train.df.head()"
      ],
      "metadata": {
        "colab": {
          "base_uri": "https://localhost:8080/",
          "height": 206
        },
        "id": "zvDU-q-WHIbM",
        "outputId": "71d35a38-4be9-4863-c0b3-524370e8497c"
      },
      "execution_count": 117,
      "outputs": [
        {
          "output_type": "execute_result",
          "data": {
            "text/plain": [
              "  Chromosome    Start      End  Name\n",
              "0       chr1  3062400  3063400   1.0\n",
              "1       chr1  3445600  3446600   1.0\n",
              "2       chr1  3482400  3483400   1.0\n",
              "3       chr1  3953200  3954200   1.0\n",
              "4       chr1  3981600  3982600   1.0"
            ],
            "text/html": [
              "\n",
              "  <div id=\"df-e12bb59d-4c0e-4bcf-bea5-fec0c92afeaa\">\n",
              "    <div class=\"colab-df-container\">\n",
              "      <div>\n",
              "<style scoped>\n",
              "    .dataframe tbody tr th:only-of-type {\n",
              "        vertical-align: middle;\n",
              "    }\n",
              "\n",
              "    .dataframe tbody tr th {\n",
              "        vertical-align: top;\n",
              "    }\n",
              "\n",
              "    .dataframe thead th {\n",
              "        text-align: right;\n",
              "    }\n",
              "</style>\n",
              "<table border=\"1\" class=\"dataframe\">\n",
              "  <thead>\n",
              "    <tr style=\"text-align: right;\">\n",
              "      <th></th>\n",
              "      <th>Chromosome</th>\n",
              "      <th>Start</th>\n",
              "      <th>End</th>\n",
              "      <th>Name</th>\n",
              "    </tr>\n",
              "  </thead>\n",
              "  <tbody>\n",
              "    <tr>\n",
              "      <th>0</th>\n",
              "      <td>chr1</td>\n",
              "      <td>3062400</td>\n",
              "      <td>3063400</td>\n",
              "      <td>1.0</td>\n",
              "    </tr>\n",
              "    <tr>\n",
              "      <th>1</th>\n",
              "      <td>chr1</td>\n",
              "      <td>3445600</td>\n",
              "      <td>3446600</td>\n",
              "      <td>1.0</td>\n",
              "    </tr>\n",
              "    <tr>\n",
              "      <th>2</th>\n",
              "      <td>chr1</td>\n",
              "      <td>3482400</td>\n",
              "      <td>3483400</td>\n",
              "      <td>1.0</td>\n",
              "    </tr>\n",
              "    <tr>\n",
              "      <th>3</th>\n",
              "      <td>chr1</td>\n",
              "      <td>3953200</td>\n",
              "      <td>3954200</td>\n",
              "      <td>1.0</td>\n",
              "    </tr>\n",
              "    <tr>\n",
              "      <th>4</th>\n",
              "      <td>chr1</td>\n",
              "      <td>3981600</td>\n",
              "      <td>3982600</td>\n",
              "      <td>1.0</td>\n",
              "    </tr>\n",
              "  </tbody>\n",
              "</table>\n",
              "</div>\n",
              "      <button class=\"colab-df-convert\" onclick=\"convertToInteractive('df-e12bb59d-4c0e-4bcf-bea5-fec0c92afeaa')\"\n",
              "              title=\"Convert this dataframe to an interactive table.\"\n",
              "              style=\"display:none;\">\n",
              "        \n",
              "  <svg xmlns=\"http://www.w3.org/2000/svg\" height=\"24px\"viewBox=\"0 0 24 24\"\n",
              "       width=\"24px\">\n",
              "    <path d=\"M0 0h24v24H0V0z\" fill=\"none\"/>\n",
              "    <path d=\"M18.56 5.44l.94 2.06.94-2.06 2.06-.94-2.06-.94-.94-2.06-.94 2.06-2.06.94zm-11 1L8.5 8.5l.94-2.06 2.06-.94-2.06-.94L8.5 2.5l-.94 2.06-2.06.94zm10 10l.94 2.06.94-2.06 2.06-.94-2.06-.94-.94-2.06-.94 2.06-2.06.94z\"/><path d=\"M17.41 7.96l-1.37-1.37c-.4-.4-.92-.59-1.43-.59-.52 0-1.04.2-1.43.59L10.3 9.45l-7.72 7.72c-.78.78-.78 2.05 0 2.83L4 21.41c.39.39.9.59 1.41.59.51 0 1.02-.2 1.41-.59l7.78-7.78 2.81-2.81c.8-.78.8-2.07 0-2.86zM5.41 20L4 18.59l7.72-7.72 1.47 1.35L5.41 20z\"/>\n",
              "  </svg>\n",
              "      </button>\n",
              "      \n",
              "  <style>\n",
              "    .colab-df-container {\n",
              "      display:flex;\n",
              "      flex-wrap:wrap;\n",
              "      gap: 12px;\n",
              "    }\n",
              "\n",
              "    .colab-df-convert {\n",
              "      background-color: #E8F0FE;\n",
              "      border: none;\n",
              "      border-radius: 50%;\n",
              "      cursor: pointer;\n",
              "      display: none;\n",
              "      fill: #1967D2;\n",
              "      height: 32px;\n",
              "      padding: 0 0 0 0;\n",
              "      width: 32px;\n",
              "    }\n",
              "\n",
              "    .colab-df-convert:hover {\n",
              "      background-color: #E2EBFA;\n",
              "      box-shadow: 0px 1px 2px rgba(60, 64, 67, 0.3), 0px 1px 3px 1px rgba(60, 64, 67, 0.15);\n",
              "      fill: #174EA6;\n",
              "    }\n",
              "\n",
              "    [theme=dark] .colab-df-convert {\n",
              "      background-color: #3B4455;\n",
              "      fill: #D2E3FC;\n",
              "    }\n",
              "\n",
              "    [theme=dark] .colab-df-convert:hover {\n",
              "      background-color: #434B5C;\n",
              "      box-shadow: 0px 1px 3px 1px rgba(0, 0, 0, 0.15);\n",
              "      filter: drop-shadow(0px 1px 2px rgba(0, 0, 0, 0.3));\n",
              "      fill: #FFFFFF;\n",
              "    }\n",
              "  </style>\n",
              "\n",
              "      <script>\n",
              "        const buttonEl =\n",
              "          document.querySelector('#df-e12bb59d-4c0e-4bcf-bea5-fec0c92afeaa button.colab-df-convert');\n",
              "        buttonEl.style.display =\n",
              "          google.colab.kernel.accessAllowed ? 'block' : 'none';\n",
              "\n",
              "        async function convertToInteractive(key) {\n",
              "          const element = document.querySelector('#df-e12bb59d-4c0e-4bcf-bea5-fec0c92afeaa');\n",
              "          const dataTable =\n",
              "            await google.colab.kernel.invokeFunction('convertToInteractive',\n",
              "                                                     [key], {});\n",
              "          if (!dataTable) return;\n",
              "\n",
              "          const docLinkHtml = 'Like what you see? Visit the ' +\n",
              "            '<a target=\"_blank\" href=https://colab.research.google.com/notebooks/data_table.ipynb>data table notebook</a>'\n",
              "            + ' to learn more about interactive tables.';\n",
              "          element.innerHTML = '';\n",
              "          dataTable['output_type'] = 'display_data';\n",
              "          await google.colab.output.renderOutput(dataTable, element);\n",
              "          const docLink = document.createElement('div');\n",
              "          docLink.innerHTML = docLinkHtml;\n",
              "          element.appendChild(docLink);\n",
              "        }\n",
              "      </script>\n",
              "    </div>\n",
              "  </div>\n",
              "  "
            ]
          },
          "metadata": {},
          "execution_count": 117
        }
      ]
    },
    {
      "cell_type": "code",
      "source": [
        "len(sox2.df)"
      ],
      "metadata": {
        "colab": {
          "base_uri": "https://localhost:8080/"
        },
        "id": "shDwwy6RTj5s",
        "outputId": "57f623f3-7e06-4314-cb33-a6d53fc308dd"
      },
      "execution_count": 106,
      "outputs": [
        {
          "output_type": "execute_result",
          "data": {
            "text/plain": [
              "9396"
            ]
          },
          "metadata": {},
          "execution_count": 106
        }
      ]
    },
    {
      "cell_type": "code",
      "source": [
        "sox2_train_df = sox2_train.df.sort_values([\"Chromosome\", \"Start\"]).head()"
      ],
      "metadata": {
        "id": "OulVzTu_QOpr"
      },
      "execution_count": 109,
      "outputs": []
    },
    {
      "cell_type": "code",
      "source": [
        "pd.unique(sox2_train_df[\"Chromosome\"].values)"
      ],
      "metadata": {
        "colab": {
          "base_uri": "https://localhost:8080/"
        },
        "id": "DpFrtfTNGOVp",
        "outputId": "456fbc16-6985-477c-8cac-f18919a3386f"
      },
      "execution_count": 114,
      "outputs": [
        {
          "output_type": "stream",
          "name": "stdout",
          "text": [
            "['chr1']\n",
            "Categories (21, object): ['chr1', 'chr10', 'chr11', 'chr12', ..., 'chr8', 'chr9', 'chrX', 'chrY']\n"
          ]
        }
      ]
    },
    {
      "cell_type": "code",
      "source": [
        "# select only Sox2 regions\n",
        "#df.loc[df['col1'] == value]\n",
        "df = regions.df.loc[regions.df[\"Name\"] == \"Sox2\"]\n",
        "df = df.sort_values([\"Chromosome\", \"Start\"])\n",
        "df.head()"
      ],
      "metadata": {
        "colab": {
          "base_uri": "https://localhost:8080/",
          "height": 206
        },
        "id": "qe4NliLmQWJA",
        "outputId": "844c6523-732f-4b63-b1d5-e18ad73cb726"
      },
      "execution_count": 115,
      "outputs": [
        {
          "output_type": "execute_result",
          "data": {
            "text/plain": [
              "     Chromosome    Start      End  Name\n",
              "1868       chr1  3062450  3063450  Sox2\n",
              "2105       chr1  3445600  3446600  Sox2\n",
              "1867       chr1  4150519  4151519  Sox2\n",
              "2283       chr1  4659763  4660763  Sox2\n",
              "1763       chr1  4802191  4803191  Sox2"
            ],
            "text/html": [
              "\n",
              "  <div id=\"df-8e80986a-8d56-4bdd-995b-b01116eb8d2d\">\n",
              "    <div class=\"colab-df-container\">\n",
              "      <div>\n",
              "<style scoped>\n",
              "    .dataframe tbody tr th:only-of-type {\n",
              "        vertical-align: middle;\n",
              "    }\n",
              "\n",
              "    .dataframe tbody tr th {\n",
              "        vertical-align: top;\n",
              "    }\n",
              "\n",
              "    .dataframe thead th {\n",
              "        text-align: right;\n",
              "    }\n",
              "</style>\n",
              "<table border=\"1\" class=\"dataframe\">\n",
              "  <thead>\n",
              "    <tr style=\"text-align: right;\">\n",
              "      <th></th>\n",
              "      <th>Chromosome</th>\n",
              "      <th>Start</th>\n",
              "      <th>End</th>\n",
              "      <th>Name</th>\n",
              "    </tr>\n",
              "  </thead>\n",
              "  <tbody>\n",
              "    <tr>\n",
              "      <th>1868</th>\n",
              "      <td>chr1</td>\n",
              "      <td>3062450</td>\n",
              "      <td>3063450</td>\n",
              "      <td>Sox2</td>\n",
              "    </tr>\n",
              "    <tr>\n",
              "      <th>2105</th>\n",
              "      <td>chr1</td>\n",
              "      <td>3445600</td>\n",
              "      <td>3446600</td>\n",
              "      <td>Sox2</td>\n",
              "    </tr>\n",
              "    <tr>\n",
              "      <th>1867</th>\n",
              "      <td>chr1</td>\n",
              "      <td>4150519</td>\n",
              "      <td>4151519</td>\n",
              "      <td>Sox2</td>\n",
              "    </tr>\n",
              "    <tr>\n",
              "      <th>2283</th>\n",
              "      <td>chr1</td>\n",
              "      <td>4659763</td>\n",
              "      <td>4660763</td>\n",
              "      <td>Sox2</td>\n",
              "    </tr>\n",
              "    <tr>\n",
              "      <th>1763</th>\n",
              "      <td>chr1</td>\n",
              "      <td>4802191</td>\n",
              "      <td>4803191</td>\n",
              "      <td>Sox2</td>\n",
              "    </tr>\n",
              "  </tbody>\n",
              "</table>\n",
              "</div>\n",
              "      <button class=\"colab-df-convert\" onclick=\"convertToInteractive('df-8e80986a-8d56-4bdd-995b-b01116eb8d2d')\"\n",
              "              title=\"Convert this dataframe to an interactive table.\"\n",
              "              style=\"display:none;\">\n",
              "        \n",
              "  <svg xmlns=\"http://www.w3.org/2000/svg\" height=\"24px\"viewBox=\"0 0 24 24\"\n",
              "       width=\"24px\">\n",
              "    <path d=\"M0 0h24v24H0V0z\" fill=\"none\"/>\n",
              "    <path d=\"M18.56 5.44l.94 2.06.94-2.06 2.06-.94-2.06-.94-.94-2.06-.94 2.06-2.06.94zm-11 1L8.5 8.5l.94-2.06 2.06-.94-2.06-.94L8.5 2.5l-.94 2.06-2.06.94zm10 10l.94 2.06.94-2.06 2.06-.94-2.06-.94-.94-2.06-.94 2.06-2.06.94z\"/><path d=\"M17.41 7.96l-1.37-1.37c-.4-.4-.92-.59-1.43-.59-.52 0-1.04.2-1.43.59L10.3 9.45l-7.72 7.72c-.78.78-.78 2.05 0 2.83L4 21.41c.39.39.9.59 1.41.59.51 0 1.02-.2 1.41-.59l7.78-7.78 2.81-2.81c.8-.78.8-2.07 0-2.86zM5.41 20L4 18.59l7.72-7.72 1.47 1.35L5.41 20z\"/>\n",
              "  </svg>\n",
              "      </button>\n",
              "      \n",
              "  <style>\n",
              "    .colab-df-container {\n",
              "      display:flex;\n",
              "      flex-wrap:wrap;\n",
              "      gap: 12px;\n",
              "    }\n",
              "\n",
              "    .colab-df-convert {\n",
              "      background-color: #E8F0FE;\n",
              "      border: none;\n",
              "      border-radius: 50%;\n",
              "      cursor: pointer;\n",
              "      display: none;\n",
              "      fill: #1967D2;\n",
              "      height: 32px;\n",
              "      padding: 0 0 0 0;\n",
              "      width: 32px;\n",
              "    }\n",
              "\n",
              "    .colab-df-convert:hover {\n",
              "      background-color: #E2EBFA;\n",
              "      box-shadow: 0px 1px 2px rgba(60, 64, 67, 0.3), 0px 1px 3px 1px rgba(60, 64, 67, 0.15);\n",
              "      fill: #174EA6;\n",
              "    }\n",
              "\n",
              "    [theme=dark] .colab-df-convert {\n",
              "      background-color: #3B4455;\n",
              "      fill: #D2E3FC;\n",
              "    }\n",
              "\n",
              "    [theme=dark] .colab-df-convert:hover {\n",
              "      background-color: #434B5C;\n",
              "      box-shadow: 0px 1px 3px 1px rgba(0, 0, 0, 0.15);\n",
              "      filter: drop-shadow(0px 1px 2px rgba(0, 0, 0, 0.3));\n",
              "      fill: #FFFFFF;\n",
              "    }\n",
              "  </style>\n",
              "\n",
              "      <script>\n",
              "        const buttonEl =\n",
              "          document.querySelector('#df-8e80986a-8d56-4bdd-995b-b01116eb8d2d button.colab-df-convert');\n",
              "        buttonEl.style.display =\n",
              "          google.colab.kernel.accessAllowed ? 'block' : 'none';\n",
              "\n",
              "        async function convertToInteractive(key) {\n",
              "          const element = document.querySelector('#df-8e80986a-8d56-4bdd-995b-b01116eb8d2d');\n",
              "          const dataTable =\n",
              "            await google.colab.kernel.invokeFunction('convertToInteractive',\n",
              "                                                     [key], {});\n",
              "          if (!dataTable) return;\n",
              "\n",
              "          const docLinkHtml = 'Like what you see? Visit the ' +\n",
              "            '<a target=\"_blank\" href=https://colab.research.google.com/notebooks/data_table.ipynb>data table notebook</a>'\n",
              "            + ' to learn more about interactive tables.';\n",
              "          element.innerHTML = '';\n",
              "          dataTable['output_type'] = 'display_data';\n",
              "          await google.colab.output.renderOutput(dataTable, element);\n",
              "          const docLink = document.createElement('div');\n",
              "          docLink.innerHTML = docLinkHtml;\n",
              "          element.appendChild(docLink);\n",
              "        }\n",
              "      </script>\n",
              "    </div>\n",
              "  </div>\n",
              "  "
            ]
          },
          "metadata": {},
          "execution_count": 115
        }
      ]
    },
    {
      "cell_type": "code",
      "source": [
        "\n",
        "len(df)"
      ],
      "metadata": {
        "colab": {
          "base_uri": "https://localhost:8080/"
        },
        "id": "2PE562xBHCYA",
        "outputId": "858e68d1-7a76-472e-a5f8-e98d80fc3c1a"
      },
      "execution_count": 116,
      "outputs": [
        {
          "output_type": "execute_result",
          "data": {
            "text/plain": [
              "10740"
            ]
          },
          "metadata": {},
          "execution_count": 116
        }
      ]
    },
    {
      "cell_type": "code",
      "source": [
        "df.End[142054] - df.Start[142054]"
      ],
      "metadata": {
        "id": "yjbZH0FDQaTa"
      },
      "execution_count": null,
      "outputs": []
    },
    {
      "cell_type": "code",
      "source": [
        "regions.df.Chromosome.unique()"
      ],
      "metadata": {
        "id": "BRAc-A0SrfdR"
      },
      "execution_count": null,
      "outputs": []
    },
    {
      "cell_type": "code",
      "source": [
        ""
      ],
      "metadata": {
        "id": "gEqp6LBIHSZ2"
      },
      "execution_count": null,
      "outputs": []
    },
    {
      "cell_type": "code",
      "source": [
        ""
      ],
      "metadata": {
        "id": "rhXvDmYMH6Jh"
      },
      "execution_count": null,
      "outputs": []
    },
    {
      "cell_type": "markdown",
      "source": [
        "### Nanog.training.bed\n",
        "\n",
        "Here the number of rows is not equivalent to the number of rows in the peak file (as was the case for Sox2)"
      ],
      "metadata": {
        "id": "8w7fDmqtH79A"
      }
    },
    {
      "cell_type": "code",
      "source": [
        "!gzip -dv /content/gdrive/MyDrive/colab_notebooks/data/merged_set/Nanog.training.bed.gz"
      ],
      "metadata": {
        "colab": {
          "base_uri": "https://localhost:8080/"
        },
        "id": "9mkdiqg8H90j",
        "outputId": "b24a1c1a-17ab-4b34-cbfa-dfb2c21acc8c"
      },
      "execution_count": 125,
      "outputs": [
        {
          "output_type": "stream",
          "name": "stdout",
          "text": [
            "/content/gdrive/MyDrive/colab_notebooks/data/merged_set/Nanog.training.bed.gz:\t 77.7% -- replaced with /content/gdrive/MyDrive/colab_notebooks/data/merged_set/Nanog.training.bed\n"
          ]
        }
      ]
    },
    {
      "cell_type": "code",
      "source": [
        "nanog_train = pr.read_bed(f\"{path}merged_set/Nanog.training.bed\")\n",
        "len(nanog_train.df)"
      ],
      "metadata": {
        "colab": {
          "base_uri": "https://localhost:8080/"
        },
        "id": "eDJ6RJgTIDke",
        "outputId": "34268dfe-f385-43f0-eb7f-03a9eede015a"
      },
      "execution_count": 126,
      "outputs": [
        {
          "output_type": "execute_result",
          "data": {
            "text/plain": [
              "66982"
            ]
          },
          "metadata": {},
          "execution_count": 126
        }
      ]
    },
    {
      "cell_type": "markdown",
      "source": [
        "### Unique.training.bed"
      ],
      "metadata": {
        "id": "i1uoyGQzHStY"
      }
    },
    {
      "cell_type": "code",
      "source": [
        "!gzip -dv /content/gdrive/MyDrive/colab_notebooks/data/merged_set/unique.training.bed.gz"
      ],
      "metadata": {
        "colab": {
          "base_uri": "https://localhost:8080/"
        },
        "id": "GE_HzjM4HRlM",
        "outputId": "79f40b0a-bd84-4a47-a0d9-541e69ea7eb7"
      },
      "execution_count": 118,
      "outputs": [
        {
          "output_type": "stream",
          "name": "stdout",
          "text": [
            "/content/gdrive/MyDrive/colab_notebooks/data/merged_set/unique.training.bed.gz:\t 74.5% -- replaced with /content/gdrive/MyDrive/colab_notebooks/data/merged_set/unique.training.bed\n"
          ]
        }
      ]
    },
    {
      "cell_type": "code",
      "source": [
        "unique_train = pr.read_bed(f\"{path}merged_set/unique.training.bed\")"
      ],
      "metadata": {
        "id": "W_iiYk8YHWXX"
      },
      "execution_count": 119,
      "outputs": []
    },
    {
      "cell_type": "code",
      "source": [
        "\n",
        "len(unique_train)"
      ],
      "metadata": {
        "colab": {
          "base_uri": "https://localhost:8080/"
        },
        "id": "jHiMpCgWHbV2",
        "outputId": "39146eac-415c-424d-a177-405c03769a72"
      },
      "execution_count": 120,
      "outputs": [
        {
          "output_type": "execute_result",
          "data": {
            "text/plain": [
              "85926"
            ]
          },
          "metadata": {},
          "execution_count": 120
        }
      ]
    }
  ],
  "metadata": {
    "colab": {
      "name": "BPNet_data.ipynb",
      "provenance": [],
      "mount_file_id": "11kDrMOu3kHOUeufLeUBfEHyFTrRgCGnL",
      "authorship_tag": "ABX9TyMw3qR4MJOxpMncszIDuCqI",
      "include_colab_link": true
    },
    "kernelspec": {
      "display_name": "Python 3",
      "name": "python3"
    },
    "language_info": {
      "name": "python"
    }
  },
  "nbformat": 4,
  "nbformat_minor": 0
}